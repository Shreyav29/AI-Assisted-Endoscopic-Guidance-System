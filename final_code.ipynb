{
 "cells": [
  {
   "cell_type": "code",
   "execution_count": 2,
   "metadata": {},
   "outputs": [],
   "source": [
    "import os\n",
    "import random\n",
    "import cv2\n",
    "import numpy as np\n",
    "import xml.etree.ElementTree as ET\n",
    "import time\n",
    "import helper as helper_file\n",
    "import matplotlib.pyplot as plt\n",
    "import shutil \n",
    "import os\n",
    "import shutil\n",
    "import pandas as pd\n",
    "import re\n",
    "\n",
    "\n",
    "\n",
    "# Define paths for pooled dataset\n",
    "pooled_images_dir = \"/home/jayanth/ConsultingProject/DATA/pooled_images\"\n",
    "pooled_labels_dir = \"/home/jayanth/ConsultingProject/DATA/pooled_labels\"\n",
    "mismatch_report_path = \"/home/jayanth/ConsultingProject/DATA/pooled_data_mismatches.csv\"\n",
    "\n",
    "# Source image and label folders\n",
    "image_folders = [\n",
    "   # \"/home/jayanth/ConsultingProject/DATA/Pooled_Data/Images/1_Vocal cords - Copy\",\n",
    "    \"/home/jayanth/ConsultingProject/DATA/Pooled_Data/Images/1_Vocal cords - Copy_March\",\n",
    "    \"/home/jayanth/ConsultingProject/DATA/Pooled_Data/Images/2_stomach photos - Copy\",\n",
    "    \"/home/jayanth/ConsultingProject/DATA/Pooled_Data/Images/3_Proper ett depth - Copy\",\n",
    "    \"/home/jayanth/ConsultingProject/DATA/Pooled_Data/Images/4_Trachea 1 - Copy\"\n",
    "]\n",
    "\n",
    "label_folders = [\n",
    "    #\"/home/jayanth/ConsultingProject/DATA/Pooled_Data/Labels/1_labels_vocal-cords_2025-01-06-09-56-40\",\n",
    "    \"/home/jayanth/ConsultingProject/DATA/Pooled_Data/Labels/5_labels_my-project-name_2025-02-25-12-17-28_vocal_cords_2\", \n",
    "    \"/home/jayanth/ConsultingProject/DATA/Pooled_Data/Labels/2_labels_my-project-name_2025-01-09-10-07-16\",\n",
    "    \"/home/jayanth/ConsultingProject/DATA/Pooled_Data/Labels/3_labels_my-project-name_2025-02-01-09-53-12 ett\",\n",
    "    \"/home/jayanth/ConsultingProject/DATA/Pooled_Data/Labels/4_labels_my-project-name_2025-02-01-04-41-53 trachea\"\n",
    "]\n",
    "\n",
    "\n",
    "#Define paths for output dataset and YAML files\n",
    "images_folder = pooled_images_dir\n",
    "labels_folder = pooled_labels_dir\n",
    "output_dataset_path = \"/home/jayanth/ConsultingProject/DATA/output_dataset/yolo_dataset\"\n",
    "data_yaml_path = os.path.join('/home/jayanth/ConsultingProject/DATA/output_dataset', \"dataset.yaml\")\n",
    "holdout_yaml_path = os.path.join('/home/jayanth/ConsultingProject/DATA/output_dataset', \"holdout.yaml\")\n",
    "\n",
    "#tracheal rings and placement lables\n",
    "tracheal_rings_file = '/home/jayanth/ConsultingProject/DATA/tracheal rings numbered.xlsx'\n",
    "\n",
    "# Parameters\n",
    "target_size = (416, 416)\n",
    "holdout_ratio = 0.10  # ✅ 10% of dataset for holdout (adjustable)\n",
    "\n",
    "#Tuning model output location \n",
    "experiment_logs = \"YOLO_model_experiment_logs\"\n",
    "\n"
   ]
  },
  {
   "cell_type": "markdown",
   "metadata": {},
   "source": [
    "# Combine All Datasets and Analyze missing data\n",
    "\n",
    "### **🔹 Overview**  \n",
    "This script **creates a pooled dataset** by merging images and labels from multiple folders, handling duplicates, and generating a mismatch report for missing files.\n",
    "\n",
    "#### **🔹 Key Functions of the Code**  \n",
    "\n",
    "#### 1️⃣ Cleaning & Preparing the Dataset\n",
    "- **Deletes existing pooled dataset folders** (`pooled_images_dir`, `pooled_labels_dir`) to avoid duplicates.  \n",
    "- **Creates new directories** for storing pooled images and labels.\n",
    "\n",
    "#### 2️⃣ Copying & Handling Files\n",
    "- **Finds all images and labels** in the source folders.  \n",
    "- **Handles duplicate filenames** (e.g., renames duplicates using `_dupX`).  \n",
    "- **Copies images and labels** into the pooled dataset.\n",
    "\n",
    "#### 3️⃣ Identifying Mismatches\n",
    "- **Finds images that don’t have labels.**  \n",
    "- **Finds labels that don’t have images.**  \n",
    "- **Stores mismatch details** in a report (`pooled_data_mismatches.csv`).\n",
    "\n",
    "#### 4️⃣ Printing Dataset Statistics \n",
    "- 📂 **Total number of pooled images and labels**  \n",
    "- ⚠ **Number of images without labels**  \n",
    "- ⚠ **Number of labels without images**  \n",
    "- 📁 **Saves a detailed mismatch report for debugging.**\n"
   ]
  },
  {
   "cell_type": "code",
   "execution_count": 3,
   "metadata": {},
   "outputs": [
    {
     "name": "stdout",
     "output_type": "stream",
     "text": [
      "⚠ Deleting existing dataset folder: /home/jayanth/ConsultingProject/DATA/pooled_images\n",
      "⚠ Deleting existing dataset folder: /home/jayanth/ConsultingProject/DATA/pooled_labels\n",
      "\n",
      "📊 **Folder-wise Breakdown**\n",
      "\n",
      "📂 **Images Per Folder:**\n",
      "   - 1_Vocal cords - Copy_March: 2707 images\n",
      "   - 2_stomach photos - Copy: 748 images\n",
      "   - 3_Proper ett depth - Copy: 293 images\n",
      "   - 4_Trachea 1 - Copy: 635 images\n",
      "\n",
      "📂 **Labels Per Folder:**\n",
      "   - 5_labels_my-project-name_2025-02-25-12-17-28_vocal_cords_2: 2700 labels\n",
      "   - 2_labels_my-project-name_2025-01-09-10-07-16: 748 labels\n",
      "   - 3_labels_my-project-name_2025-02-01-09-53-12 ett: 289 labels\n",
      "   - 4_labels_my-project-name_2025-02-01-04-41-53 trachea: 611 labels\n",
      "\n",
      "✅ **Pooled Dataset Summary**\n",
      "📂 Total Pooled Images: 4383\n",
      "📂 Total Pooled Labels: 4348\n",
      "⚠ Images without Labels: 35\n",
      "⚠ Labels without Images: 0\n",
      "\n",
      "📁 Mismatch report saved at: /home/jayanth/ConsultingProject/DATA/pooled_data_mismatches.csv\n"
     ]
    }
   ],
   "source": [
    "# import os\n",
    "# import shutil\n",
    "# import pandas as pd\n",
    "# import re\n",
    "\n",
    "# # Define paths for pooled dataset\n",
    "# pooled_images_dir = \"/home/jayanth/ConsultingProject/DATA/pooled_images\"\n",
    "# pooled_labels_dir = \"/home/jayanth/ConsultingProject/DATA/pooled_labels\"\n",
    "# mismatch_report_path = \"/home/jayanth/ConsultingProject/DATA/pooled_data_mismatches.csv\"\n",
    "\n",
    "# # Source image and label folders\n",
    "# image_folders = [\n",
    "#     \"/home/jayanth/ConsultingProject/DATA/Pooled_Data/Images/1_Vocal cords - Copy\",\n",
    "#     \"/home/jayanth/ConsultingProject/DATA/Pooled_Data/Images/2_stomach photos - Copy\",\n",
    "#     \"/home/jayanth/ConsultingProject/DATA/Pooled_Data/Images/3_Proper ett depth - Copy\",\n",
    "#     \"/home/jayanth/ConsultingProject/DATA/Pooled_Data/Images/4_Trachea 1 - Copy\"\n",
    "# ]\n",
    "\n",
    "# label_folders = [\n",
    "#     #\"/home/jayanth/ConsultingProject/DATA/Pooled_Data/Labels/1_labels_vocal-cords_2025-01-06-09-56-40\",\n",
    "#     \"/home/jayanth/ConsultingProject/DATA/Pooled_Data/Labels/5_labels_my-project-name_2025-02-25-12-17-28_vocal_cords_2\", \n",
    "#     \"/home/jayanth/ConsultingProject/DATA/Pooled_Data/Labels/2_labels_my-project-name_2025-01-09-10-07-16\",\n",
    "#     \"/home/jayanth/ConsultingProject/DATA/Pooled_Data/Labels/3_labels_my-project-name_2025-02-01-09-53-12 ett\",\n",
    "#     \"/home/jayanth/ConsultingProject/DATA/Pooled_Data/Labels/4_labels_my-project-name_2025-02-01-04-41-53 trachea\"\n",
    "# ]\n",
    "\n",
    "# Remove the existing dataset folder if it exists\n",
    "if os.path.exists(pooled_images_dir):\n",
    "    print(f\"⚠ Deleting existing dataset folder: {pooled_images_dir}\")\n",
    "    shutil.rmtree(pooled_images_dir)  # Deletes the entire folder\n",
    "if os.path.exists(pooled_labels_dir):\n",
    "    print(f\"⚠ Deleting existing dataset folder: {pooled_labels_dir}\")\n",
    "    shutil.rmtree(pooled_labels_dir)  # Deletes the entire folder\n",
    "\n",
    "\n",
    "# Create pooled directories if they don’t exist\n",
    "os.makedirs(pooled_images_dir, exist_ok=True)\n",
    "os.makedirs(pooled_labels_dir, exist_ok=True)\n",
    "\n",
    "# Function to clean filenames (remove _dupX suffix)\n",
    "def clean_filename(filename):\n",
    "    return re.sub(r'_dup\\d+', '', filename)  # Removes _dup1, _dup2, etc.\n",
    "\n",
    "# Function to count and map filenames to folders\n",
    "def count_files_and_map(source_folders, file_types):\n",
    "    file_to_folder = {}\n",
    "    folder_counts = {}\n",
    "    \n",
    "    for folder in source_folders:\n",
    "        if not os.path.exists(folder):\n",
    "            print(f\"⚠ Warning: Folder {folder} does not exist. Skipping.\")\n",
    "            folder_counts[folder] = 0\n",
    "            continue\n",
    "        \n",
    "        files = [f for f in os.listdir(folder) if os.path.splitext(f)[1].lower() in file_types]\n",
    "        folder_counts[folder] = len(files)\n",
    "        \n",
    "        for f in files:\n",
    "            name, _ = os.path.splitext(f)\n",
    "            clean_name = clean_filename(name)  # Remove duplicates suffixes\n",
    "            \n",
    "            if clean_name in file_to_folder:\n",
    "                file_to_folder[clean_name].append(folder)\n",
    "            else:\n",
    "                file_to_folder[clean_name] = [folder]\n",
    "\n",
    "    return file_to_folder, folder_counts\n",
    "\n",
    "# Get original locations and counts of images and labels\n",
    "image_to_folder, image_folder_counts = count_files_and_map(image_folders, {\".jpg\", \".png\", \".jpeg\"})\n",
    "label_to_folder, label_folder_counts = count_files_and_map(label_folders, {\".xml\"})\n",
    "\n",
    "# Function to copy files and track duplicates\n",
    "def copy_files_with_handling(source_folders, destination_folder):\n",
    "    existing_files = set()\n",
    "    for folder in source_folders:\n",
    "        if not os.path.exists(folder):\n",
    "            continue\n",
    "\n",
    "        for filename in os.listdir(folder):\n",
    "            name, ext = os.path.splitext(filename)\n",
    "            if ext.lower() not in {\".jpg\", \".png\", \".jpeg\", \".xml\"}:\n",
    "                continue  # Skip unsupported files\n",
    "\n",
    "            source_path = os.path.join(folder, filename)\n",
    "            dest_path = os.path.join(destination_folder, filename)\n",
    "\n",
    "            # Handle duplicate filenames\n",
    "            counter = 1\n",
    "            while os.path.exists(dest_path):\n",
    "                new_filename = f\"{name}_dup{counter}{ext}\"\n",
    "                dest_path = os.path.join(destination_folder, new_filename)\n",
    "                counter += 1\n",
    "\n",
    "            # Copy file to the pooled directory\n",
    "            shutil.copy2(source_path, dest_path)\n",
    "            existing_files.add(clean_filename(name))  # Store cleaned filename\n",
    "\n",
    "    return existing_files\n",
    "\n",
    "# Copy images and track total pooled count\n",
    "pooled_images = copy_files_with_handling(image_folders, pooled_images_dir)\n",
    "pooled_labels = copy_files_with_handling(label_folders, pooled_labels_dir)\n",
    "\n",
    "# Count total files in pooled folders\n",
    "total_pooled_images = len(os.listdir(pooled_images_dir))\n",
    "total_pooled_labels = len(os.listdir(pooled_labels_dir))\n",
    "\n",
    "# Find mismatches (after cleaning filenames)\n",
    "images_without_labels = pooled_images - pooled_labels\n",
    "labels_without_images = pooled_labels - pooled_images\n",
    "\n",
    "# Prepare data for mismatch CSV\n",
    "mismatch_data = []\n",
    "\n",
    "# Add missing images with their original folder\n",
    "for img in images_without_labels:\n",
    "    mismatch_data.append({\n",
    "        \"Filename\": img,\n",
    "        \"Type\": \"Image without Label\",\n",
    "        \"Source Folder\": \", \".join(image_to_folder.get(img, [\"Unknown\"]))\n",
    "    })\n",
    "\n",
    "# Add missing labels with their original folder\n",
    "for lbl in labels_without_images:\n",
    "    mismatch_data.append({\n",
    "        \"Filename\": lbl,\n",
    "        \"Type\": \"Label without Image\",\n",
    "        \"Source Folder\": \", \".join(label_to_folder.get(lbl, [\"Unknown\"]))\n",
    "    })\n",
    "\n",
    "# Save mismatch report to CSV\n",
    "df_mismatches = pd.DataFrame(mismatch_data)\n",
    "df_mismatches.to_csv(mismatch_report_path, index=False)\n",
    "\n",
    "# Print summary of counts\n",
    "print(\"\\n📊 **Folder-wise Breakdown**\")\n",
    "print(\"\\n📂 **Images Per Folder:**\")\n",
    "for folder, count in image_folder_counts.items():\n",
    "    print(f\"   - {folder.split('/')[-1]}: {count} images\")\n",
    "\n",
    "print(\"\\n📂 **Labels Per Folder:**\")\n",
    "for folder, count in label_folder_counts.items():\n",
    "    print(f\"   - {folder.split('/')[-1]}: {count} labels\")\n",
    "\n",
    "print(\"\\n✅ **Pooled Dataset Summary**\")\n",
    "print(f\"📂 Total Pooled Images: {total_pooled_images}\")\n",
    "print(f\"📂 Total Pooled Labels: {total_pooled_labels}\")\n",
    "print(f\"⚠ Images without Labels: {len(images_without_labels)}\")\n",
    "print(f\"⚠ Labels without Images: {len(labels_without_images)}\")\n",
    "print(f\"\\n📁 Mismatch report saved at: {mismatch_report_path}\")"
   ]
  },
  {
   "cell_type": "markdown",
   "metadata": {},
   "source": [
    "# Data Prep - Creating Train Val and Holdout Datasets \n",
    "### **🔹 Overview**  \n",
    "This script **processes the pooled dataset** by splitting images into training, validation, and holdout sets, handling class label modifications, and generating YOLO-compatible datasets.\n",
    "\n",
    "#### **🔹 Key Functions of the Code**  \n",
    "\n",
    "#### 1️⃣ Cleaning & Preparing the Dataset  \n",
    "- **Deletes existing dataset folders** (`output_dataset_path`) to avoid duplication.  \n",
    "- **Creates new directories** for `train`, `val`, and `holdout` datasets.\n",
    "\n",
    "#### 2️⃣ Processing & Splitting the Dataset\n",
    "- **Extracts unique labels from the dataset** and creates a class mapping.  \n",
    "- **Splits images into train (80%), validation (20%), and holdout (10%)**  \n",
    "- **Ensures holdout set is balanced** by selecting images proportionally from each class.  \n",
    "\n",
    "#### 3️⃣ Handling Tracheal Rings Labels\n",
    "- **Loads `tracheal rings numbered.xlsx`** to map images to tracheal ring categories.  \n",
    "- **Replaces `placement` labels** with `tracheal_rings_3`, `tracheal_rings_4`, `tracheal_rings_5`, or `tracheal_rings_greater_than_5`.  \n",
    "- **Updates `class_mapping`** after modifying labels.\n",
    "\n",
    "#### 4️⃣ Generating YOLO-Compatible Dataset\n",
    "- **Processes images and labels**, converts them into YOLO format.  \n",
    "- **Saves processed images and labels** to `train`, `val`, and `holdout` folders.  \n",
    "- **Generates `dataset.yaml` and `holdout.yaml`** for YOLO training.\n",
    "\n",
    "#### 5️⃣ Dataset Validation & Class Distribution Analysis\n",
    "- **Validates the dataset** to check for missing labels or images.  \n",
    "- **Counts the number of images per class** after label replacement.  \n",
    "- **Prints a summary of dataset statistics**.\n"
   ]
  },
  {
   "cell_type": "code",
   "execution_count": 4,
   "metadata": {},
   "outputs": [
    {
     "name": "stdout",
     "output_type": "stream",
     "text": [
      "⚠ Deleting existing dataset folder: /home/jayanth/ConsultingProject/DATA/output_dataset/yolo_dataset\n",
      "-------------------------------------Starting to process new dataset---------------------------------------------\n",
      "/home/jayanth/ConsultingProject/DATA/pooled_images /home/jayanth/ConsultingProject/DATA/pooled_labels\n",
      "Extracting unique labels from the dataset...\n",
      "Error reading XML file /home/jayanth/ConsultingProject/DATA/pooled_labels/Vvvv&uquu.xml: not well-formed (invalid token): line 3, column 24\n",
      "Error reading XML file /home/jayanth/ConsultingProject/DATA/pooled_labels/Whahhshh&h.xml: not well-formed (invalid token): line 3, column 25\n",
      "Error reading XML file /home/jayanth/ConsultingProject/DATA/pooled_labels/H&ygfxc.xml: not well-formed (invalid token): line 3, column 22\n",
      "Error reading XML file /home/jayanth/ConsultingProject/DATA/pooled_labels/5ghyuh&u.xml: not well-formed (invalid token): line 3, column 23\n",
      "Class mapping created: {'Arytenoid': 0, 'Epigottis': 1, 'Esophagus': 2, 'Glottic Opening': 3, 'Glottis': 4, 'Trachea': 5, 'Vocal Cord': 6, 'placement': 7}\n",
      "Skipping problematic file /home/jayanth/ConsultingProject/DATA/pooled_labels/H&ygfxc.xml: not well-formed (invalid token): line 3, column 22\n",
      "Skipping problematic file /home/jayanth/ConsultingProject/DATA/pooled_labels/5ghyuh&u.xml: not well-formed (invalid token): line 3, column 23\n",
      "Skipping problematic file /home/jayanth/ConsultingProject/DATA/pooled_labels/Vvvv&uquu.xml: not well-formed (invalid token): line 3, column 24\n",
      "Skipping problematic file /home/jayanth/ConsultingProject/DATA/pooled_labels/Whahhshh&h.xml: not well-formed (invalid token): line 3, column 25\n",
      "Final Dataset Split - Train: 2838, Val: 710, Holdout: 924\n",
      "Creating class mapping after label replacement...\n",
      "✅ Updated Class Mapping: {'Arytenoid': 0, 'Epigottis': 1, 'Esophagus': 2, 'Glottic Opening': 3, 'Glottis': 4, 'Trachea': 5, 'Vocal Cords': 6, 'placement': 7, 'tracheal_rings_3': 8, 'tracheal_rings_4': 9, 'tracheal_rings_5': 10, 'tracheal_rings_greater_than_5': 11}\n",
      "\n",
      "Processing train set with 2838 images...\n",
      "Skipping problematic file /home/jayanth/ConsultingProject/DATA/pooled_labels/Vvvv&uquu.xml: not well-formed (invalid token): line 3, column 24\n",
      "Skipping problematic file /home/jayanth/ConsultingProject/DATA/pooled_labels/5ghyuh&u.xml: not well-formed (invalid token): line 3, column 23\n",
      "\n",
      "Processing val set with 710 images...\n",
      "Skipping problematic file /home/jayanth/ConsultingProject/DATA/pooled_labels/Whahhshh&h.xml: not well-formed (invalid token): line 3, column 25\n",
      "Skipping problematic file /home/jayanth/ConsultingProject/DATA/pooled_labels/H&ygfxc.xml: not well-formed (invalid token): line 3, column 22\n",
      "\n",
      "Processing holdout set with 924 images...\n",
      "\n",
      "Creating dataset YAML file...\n",
      "Dataset YAML file created successfully!\n",
      "Dataset YAML file created successfully!\n",
      "Validating train dataset...\n",
      "\n",
      "Validating validation dataset...\n",
      "\n",
      "All files are valid!\n",
      "-------------------------------------Ended processing one dataset---------------------------------------------\n",
      "Training Images Count : 2807\n",
      "Validation Images Count : 702\n",
      "Holdout Images Count : 835\n",
      "{'Arytenoid': 0, 'Epigottis': 1, 'Esophagus': 2, 'Glottic Opening': 3, 'Glottis': 4, 'Trachea': 5, 'Vocal Cords': 6, 'placement': 7, 'tracheal_rings_3': 8, 'tracheal_rings_4': 9, 'tracheal_rings_5': 10, 'tracheal_rings_greater_than_5': 11}\n",
      "\n",
      "📊 **Final Class Distribution**\n",
      "Arytenoid: 3668 images\n",
      "Epigottis: 1369 images\n",
      "Esophagus: 753 images\n",
      "Glottic Opening: 1 images\n",
      "Glottis: 2576 images\n",
      "Trachea: 611 images\n",
      "Vocal Cords: 3477 images\n",
      "placement: 2 images\n",
      "tracheal_rings_3: 81 images\n",
      "tracheal_rings_4: 49 images\n",
      "tracheal_rings_5: 114 images\n",
      "tracheal_rings_greater_than_5: 45 images\n"
     ]
    }
   ],
   "source": [
    "# import os\n",
    "# import random\n",
    "# import cv2\n",
    "# import numpy as np\n",
    "# import xml.etree.ElementTree as ET\n",
    "# import time\n",
    "# import helper as helper_file\n",
    "# import matplotlib.pyplot as plt\n",
    "# import shutil \n",
    "\n",
    "# images_folder = pooled_images_dir\n",
    "# labels_folder = pooled_labels_dir\n",
    "# output_dataset_path = \"/home/jayanth/ConsultingProject/DATA/output_dataset/yolo_dataset\"\n",
    "# data_yaml_path = os.path.join('/home/jayanth/ConsultingProject/DATA/output_dataset', \"dataset.yaml\")\n",
    "# holdout_yaml_path = os.path.join('/home/jayanth/ConsultingProject/DATA/output_dataset', \"holdout.yaml\")\n",
    "\n",
    "# #tracheal rings and placement lables\n",
    "# tracheal_rings_file = '/home/jayanth/ConsultingProject/DATA/tracheal rings numbered.xlsx'\n",
    "\n",
    "# # Parameters\n",
    "# target_size = (416, 416)\n",
    "# holdout_ratio = 0.10  # ✅ 10% of dataset for holdout (adjustable)\n",
    "\n",
    "# Remove the existing dataset folder if it exists\n",
    "if os.path.exists(output_dataset_path):\n",
    "    print(f\"⚠ Deleting existing dataset folder: {output_dataset_path}\")\n",
    "    shutil.rmtree(output_dataset_path)  # Deletes the entire folder\n",
    "\n",
    "#Common code for all folders\n",
    "# Create necessary directories - dont create if already exists. \n",
    "os.makedirs(output_dataset_path, exist_ok=True)\n",
    "os.makedirs(os.path.join(output_dataset_path, \"train/images\"), exist_ok=True)\n",
    "os.makedirs(os.path.join(output_dataset_path, \"train/labels\"), exist_ok=True)\n",
    "os.makedirs(os.path.join(output_dataset_path, \"val/images\"), exist_ok=True)\n",
    "os.makedirs(os.path.join(output_dataset_path, \"val/labels\"), exist_ok=True)\n",
    "os.makedirs(os.path.join(output_dataset_path, \"holdout/images\"), exist_ok=True)\n",
    "os.makedirs(os.path.join(output_dataset_path, \"holdout/labels\"), exist_ok=True)\n",
    "\n",
    "\n",
    "# Validate train and validation datasets\n",
    "train_images_folder = output_dataset_path +\"/train/images\"\n",
    "train_labels_folder = output_dataset_path + \"/train/labels\"\n",
    "val_images_folder = output_dataset_path + \"/val/images\"\n",
    "val_labels_folder = output_dataset_path +\"/val/labels\"\n",
    "holdout_images_folder = output_dataset_path + \"/holdout/images\"\n",
    "holdout_labels_folder = output_dataset_path +\"/holdout/labels\"\n",
    "\n",
    "\n",
    "\n",
    "print('-------------------------------------Starting to process new dataset---------------------------------------------')\n",
    "\n",
    "print(images_folder, labels_folder)\n",
    "# Extract unique labels and create a class mapping\n",
    "print(\"Extracting unique labels from the dataset...\")\n",
    "unique_labels = sorted(helper_file.extract_unique_labels(labels_folder, combine_right_left_flag = True ))  # Sort for consistent ordering\n",
    "class_mapping = {label: idx for idx, label in enumerate(unique_labels)}\n",
    "print(f\"Class mapping created: {class_mapping}\")\n",
    "\n",
    "\n",
    "# Split data into train/val/holdout\n",
    "# Step 1: Get all image files\n",
    "image_files = [f for f in os.listdir(images_folder) if f.lower().endswith(('png', 'jpg', 'jpeg'))]\n",
    "\n",
    "# Step 2: Parse XML labels to identify class distribution\n",
    "image_class_map = {}\n",
    "for image_name in image_files:\n",
    "    label_path = os.path.join(labels_folder, os.path.splitext(image_name)[0] + \".xml\")\n",
    "    if os.path.exists(label_path):\n",
    "        try:\n",
    "            _, labels = helper_file.parse_xml(label_path, combine_right_left_flag = True )  # Extract class labels from XML\n",
    "            if labels:\n",
    "                image_class_map[image_name] = labels  # Store image and its class labels\n",
    "        except Exception as e:\n",
    "            print(f\"Skipping problematic file {label_path}: {e}\")\n",
    "\n",
    "# Step 3: Organize images by class\n",
    "class_images = {cls: [] for cls in class_mapping.keys()}\n",
    "for image, labels in image_class_map.items():\n",
    "    for label in labels:\n",
    "        if label in class_images:\n",
    "            class_images[label].append(image)\n",
    "\n",
    "# Step 4: Select Holdout Set Proportionally From Each Class\n",
    "holdout_images = []\n",
    "for cls, images in class_images.items():\n",
    "    num_holdout_class = int(len(images) * holdout_ratio)  # Select 10% from each class\n",
    "    holdout_images.extend(random.sample(images, min(num_holdout_class, len(images))))  # Ensure enough samples\n",
    "\n",
    "# Step 5: Remove Holdout Images & Split Remaining into Train/Val\n",
    "remaining_images = list(set(image_files) - set(holdout_images))\n",
    "random.shuffle(remaining_images)\n",
    "# train_images = remaining_images[:int(0.8 * len(remaining_images))]\n",
    "# val_images = remaining_images[int(0.2 * len(remaining_images)):]\n",
    "train_split = int(0.8 * len(remaining_images))\n",
    "train_images = remaining_images[:train_split]\n",
    "val_images = remaining_images[train_split:]  # ✅ Take the last 20%\n",
    "\n",
    "\n",
    "print(f\"Final Dataset Split - Train: {len(train_images)}, Val: {len(val_images)}, Holdout: {len(holdout_images)}\")\n",
    "\n",
    "\n",
    "# Process and save data\n",
    "problematic_files = []  # List to store names of problematic XML files\n",
    "\n",
    "#tracheal rings data processing and replacing the placement label \n",
    "#Create image_to_class for tracheal rings classes \n",
    "# Create image_to_class for tracheal rings classes \n",
    "image_to_class_trachea = {}\n",
    "df = pd.read_excel(tracheal_rings_file)\n",
    "\n",
    "for _, row in df.iterrows():\n",
    "    image_name = str(row['image_file_name']).strip() + \".jpg\"  # ✅ Add .jpg to match image_class_map\n",
    "    rings_count = row['tracheal_rings']\n",
    "    \n",
    "    if rings_count == 3:\n",
    "        image_to_class_trachea[image_name] = 'tracheal_rings_3'\n",
    "    elif rings_count == 4:\n",
    "        image_to_class_trachea[image_name] = 'tracheal_rings_4'\n",
    "    elif rings_count == 5:\n",
    "        image_to_class_trachea[image_name] = 'tracheal_rings_5'\n",
    "    elif rings_count == 'greater than 5':\n",
    "        image_to_class_trachea[image_name] = 'tracheal_rings_greater_than_5'\n",
    "\n",
    "# Step 1: Process all labels and replace 'placement'\n",
    "processed_labels = set()\n",
    "for image_name, labels in image_class_map.items():\n",
    "    for label in labels:\n",
    "        if label == \"placement\" and image_name in image_to_class_trachea:\n",
    "            processed_labels.add(image_to_class_trachea[image_name])  # Add tracheal rings class\n",
    "        else:\n",
    "            processed_labels.add(label)  # Add other labels\n",
    "\n",
    "# Step 2: Create class mapping AFTER processing labels\n",
    "print(\"Creating class mapping after label replacement...\")\n",
    "class_mapping = {label: idx for idx, label in enumerate(sorted(processed_labels))}\n",
    "print(f\"✅ Updated Class Mapping: {class_mapping}\")\n",
    "\n",
    "\n",
    "\n",
    "#Creating train test and holdout datasets \n",
    "for split, split_images in [(\"train\", train_images), (\"val\", val_images), (\"holdout\", holdout_images)]:\n",
    "    print(f\"\\nProcessing {split} set with {len(split_images)} images...\")\n",
    "    for image_name in split_images:\n",
    "        image_path = os.path.join(images_folder, image_name)\n",
    "        label_path = os.path.join(labels_folder, os.path.splitext(image_name)[0] + \".xml\")\n",
    "        if os.path.exists(label_path):\n",
    "            try:\n",
    "                bboxes, labels = helper_file.parse_xml(label_path, combine_right_left_flag = True )\n",
    "\n",
    "                # Replace 'placement' with the correct tracheal rings class\n",
    "                updated_labels = []\n",
    "                for label in labels:\n",
    "                    if label == 'placement' and image_name in image_to_class_trachea:\n",
    "                        updated_labels.append(image_to_class_trachea[image_name])  # Assign tracheal_rings_X label\n",
    "                    else:\n",
    "                        updated_labels.append(label)  # Keep other labels unchanged\n",
    "\n",
    "                # Step 2: Store updated labels in image_class_map\n",
    "                image_class_map[image_name] = updated_labels  # ✅ Ensure placement is fully replaced\n",
    "\n",
    "\n",
    "\n",
    "                if bboxes:\n",
    "                    image, scale, top, left = helper_file.preprocess_image(image_path, target_size)\n",
    "                    yolo_bboxes = helper_file.convert_to_yolo_format(class_mapping, bboxes, updated_labels, target_size, scale, top, left)\n",
    "                    helper_file.save_yolo_data(output_dataset_path,split, image_name, image, yolo_bboxes)\n",
    "                else:\n",
    "                    problematic_files.append(label_path)\n",
    "            except Exception as e:\n",
    "                print(f\"Skipping problematic file {label_path}: {e}\")\n",
    "                problematic_files.append(label_path)\n",
    "\n",
    "\n",
    "# Create YOLO dataset YAML file\n",
    "print(\"\\nCreating dataset YAML file...\")\n",
    "\n",
    "with open(data_yaml_path, \"w\") as f:\n",
    "    f.write(f\"\"\"\n",
    "train: {os.path.join(output_dataset_path, 'train/images')}\n",
    "val: {os.path.join(output_dataset_path, 'val/images')}\n",
    "holdout: {os.path.join(output_dataset_path, 'holdout/images')}\n",
    "nc: {len(class_mapping)}\n",
    "names: {list(class_mapping.keys())}\n",
    "\"\"\")\n",
    "print(\"Dataset YAML file created successfully!\")\n",
    "\n",
    "\n",
    "with open(holdout_yaml_path, \"w\") as f:\n",
    "    f.write(f\"\"\"\n",
    "train: {os.path.join(output_dataset_path, 'train/images')}\n",
    "val: {os.path.join(output_dataset_path, 'holdout/images')}\n",
    "nc: {len(class_mapping)}\n",
    "names: {list(class_mapping.keys())}\n",
    "\"\"\")\n",
    "print(\"Dataset YAML file created successfully!\")\n",
    "\n",
    "\n",
    "# # Validate train and validation datasets\n",
    "# train_images_folder = output_dataset_path +\"/train/images\"\n",
    "# train_labels_folder = output_dataset_path + \"/train/labels\"\n",
    "# val_images_folder = output_dataset_path + \"/val/images\"\n",
    "# val_labels_folder = output_dataset_path +\"/val/labels\"\n",
    "# holdout_images_folder = output_dataset_path + \"/holdout/images\"\n",
    "# holdout_labels_folder = output_dataset_path +\"/holdout/labels\"\n",
    "\n",
    "\n",
    "print(\"Validating train dataset...\")\n",
    "train_problems = helper_file.validate_dataset(train_images_folder, train_labels_folder)\n",
    "print(\"\\nValidating validation dataset...\")\n",
    "val_problems = helper_file.validate_dataset(val_images_folder, val_labels_folder)\n",
    "\n",
    "# Report problematic files\n",
    "if train_problems or val_problems:\n",
    "    print(\"\\nProblematic files found:\")\n",
    "    for problem in train_problems + val_problems:\n",
    "        print(problem)\n",
    "else:\n",
    "    print(\"\\nAll files are valid!\")\n",
    "\n",
    "print('-------------------------------------Ended processing one dataset---------------------------------------------')\n",
    "\n",
    "print(\"Training Images Count :\" , len([f for f in os.listdir(train_images_folder) if f.lower().endswith(('png', 'jpg', 'jpeg'))]))\n",
    "print(\"Validation Images Count :\" , len([f for f in os.listdir(val_images_folder) if f.lower().endswith(('png', 'jpg', 'jpeg'))]))\n",
    "print(\"Holdout Images Count :\" , len([f for f in os.listdir(holdout_images_folder) if f.lower().endswith(('png', 'jpg', 'jpeg'))]))\n",
    "print(class_mapping)\n",
    "\n",
    "#Printing the class distribution \n",
    "# Step 1: Initialize a dictionary to count occurrences per class\n",
    "class_counts = {label: 0 for label in class_mapping.keys()}\n",
    "\n",
    "# Step 2: Count occurrences in the updated image_class_map\n",
    "for image_name, labels in image_class_map.items():  # ✅ Use updated labels\n",
    "    for label in labels:\n",
    "        if label in class_counts:\n",
    "            class_counts[label] += 1\n",
    "\n",
    "# Step 3: Print class distribution\n",
    "print(\"\\n📊 **Final Class Distribution**\")\n",
    "for label, count in class_counts.items():\n",
    "    print(f\"{label}: {count} images\")\n",
    "\n",
    "\n",
    "\n"
   ]
  },
  {
   "cell_type": "markdown",
   "metadata": {},
   "source": [
    "# 🚀 YOLOv8 Model Training & Tuning Pipeline\n",
    "\n",
    "## 📌 Overview\n",
    "This script **trains, evaluates, and fine-tunes** YOLOv8 models on a custom dataset.  \n",
    "It includes **experiment logging, model validation, mobile conversion, and inference visualization**.\n",
    "\n",
    "\n",
    "#### 🔹 1. Setup & Data Preparation\n",
    "- **Checks if the dataset exists** before proceeding.\n",
    "- **Creates an experiment logging folder** (`YOLO_model_experiment_logs`) to store training results.\n",
    "\n",
    "\n",
    "\n",
    "#### 🔹 2. Define YOLO Experiments & Hyperparameters\n",
    "- Configures different **YOLO model versions** (e.g., `yolov8s.pt`, `yolov8m.pt`).\n",
    "- Defines **batch size, image size, learning rate, and epochs** for each experiment.\n",
    "\n",
    "\n",
    "\n",
    "#### 🔹 3. Model Training & Validation\n",
    "- Iterates through **multiple hyperparameter configurations**.\n",
    "- **Trains the YOLO model** using the dataset (`dataset.yaml`).\n",
    "- **Validates the model** on the **holdout set** (`holdout.yaml`).\n",
    "\n",
    "\n",
    "\n",
    "#### 🔹 4. Performance Logging & Evaluation\n",
    "- **Extracts global metrics** (Precision, Recall, mAP50, mAP50-95).\n",
    "- **Extracts per-class metrics** and stores them in a CSV log file.\n",
    "- Saves the **trained model (`trained_model.pt`)** in the respective experiment folder.\n",
    "\n",
    "\n",
    "#### 🔹 5. Model Conversion for Mobile Deployment\n",
    "- Converts the trained model into a **mobile-compatible format** using `helper_file.mobile_optimized_model_conversion()`.\n",
    "\n",
    "\n",
    "\n",
    "#### 🔹 6. Inference & Visualization\n",
    "- Runs inference on **random holdout images**.\n",
    "- Draws **Ground Truth (GT) bounding boxes**.\n",
    "- Plots **YOLOv8 Predictions vs. GT** side by side.\n",
    "- Saves comparison **visualization plots** in the `Results_comparison_plots` folder.\n",
    "\n",
    "\n",
    "\n",
    "#### ✅ Final Output\n",
    "- **Trained YOLO models** stored in `YOLO_model_experiment_logs/{experiment_name}/trained_model.pt`.\n",
    "- **Performance logs** stored in `yolo_experiments.csv`.\n",
    "- **Mobile-optimized models** stored in the same directory.\n",
    "- **Inference results & comparison plots** saved for easy evaluation.\n",
    "\n",
    "🚀 **This pipeline automates YOLOv8 training, logging, validation, and optimization for real-world deployment!** 🔥\n"
   ]
  },
  {
   "cell_type": "code",
   "execution_count": 4,
   "metadata": {},
   "outputs": [
    {
     "data": {
      "text/plain": [
       "'/home/jayanth/ConsultingProject/DATA/output_dataset/yolo_dataset'"
      ]
     },
     "execution_count": 4,
     "metadata": {},
     "output_type": "execute_result"
    }
   ],
   "source": [
    "output_dataset_path"
   ]
  },
  {
   "cell_type": "code",
   "execution_count": 5,
   "metadata": {},
   "outputs": [
    {
     "name": "stdout",
     "output_type": "stream",
     "text": [
      "\n",
      "🚀 Running Experiment 1: {'model': 'yolov8s.pt', 'lr0': 0.001, 'batch': 32, 'imgsz': 416, 'epochs': 100}\n",
      "New https://pypi.org/project/ultralytics/8.3.91 available 😃 Update with 'pip install -U ultralytics'\n",
      "Ultralytics 8.3.65 🚀 Python-3.12.8 torch-2.6.0+cu124 CUDA:0 (NVIDIA GeForce RTX 4070, 11980MiB)\n",
      "\u001b[34m\u001b[1mengine/trainer: \u001b[0mtask=detect, mode=train, model=yolov8s.pt, data=/home/jayanth/ConsultingProject/DATA/output_dataset/dataset.yaml, epochs=100, time=None, patience=100, batch=32, imgsz=416, save=True, save_period=-1, cache=False, device=None, workers=8, project=YOLO_model_experiment_logs/yolov8s_lr0.001_batch32_img416_epochs100, name=training, exist_ok=False, pretrained=True, optimizer=auto, verbose=True, seed=0, deterministic=True, single_cls=False, rect=False, cos_lr=False, close_mosaic=10, resume=False, amp=True, fraction=1.0, profile=False, freeze=None, multi_scale=False, overlap_mask=True, mask_ratio=4, dropout=0.0, val=True, split=val, save_json=False, save_hybrid=False, conf=None, iou=0.7, max_det=300, half=False, dnn=False, plots=True, source=None, vid_stride=1, stream_buffer=False, visualize=False, augment=False, agnostic_nms=False, classes=None, retina_masks=False, embed=None, show=False, save_frames=False, save_txt=False, save_conf=False, save_crop=False, show_labels=True, show_conf=True, show_boxes=True, line_width=None, format=torchscript, keras=False, optimize=False, int8=False, dynamic=False, simplify=True, opset=None, workspace=None, nms=False, lr0=0.001, lrf=0.01, momentum=0.937, weight_decay=0.0005, warmup_epochs=3.0, warmup_momentum=0.8, warmup_bias_lr=0.1, box=7.5, cls=0.5, dfl=1.5, pose=12.0, kobj=1.0, nbs=64, hsv_h=0.015, hsv_s=0.7, hsv_v=0.4, degrees=0.0, translate=0.1, scale=0.5, shear=0.0, perspective=0.0, flipud=0.0, fliplr=0.5, bgr=0.0, mosaic=1.0, mixup=0.0, copy_paste=0.0, copy_paste_mode=flip, auto_augment=randaugment, erasing=0.4, crop_fraction=1.0, cfg=None, tracker=botsort.yaml, save_dir=YOLO_model_experiment_logs/yolov8s_lr0.001_batch32_img416_epochs100/training\n"
     ]
    },
    {
     "name": "stderr",
     "output_type": "stream",
     "text": [
      "WARNING: All log messages before absl::InitializeLog() is called are written to STDERR\n",
      "E0000 00:00:1742189288.890267   13150 cuda_dnn.cc:8310] Unable to register cuDNN factory: Attempting to register factory for plugin cuDNN when one has already been registered\n",
      "E0000 00:00:1742189288.892574   13150 cuda_blas.cc:1418] Unable to register cuBLAS factory: Attempting to register factory for plugin cuBLAS when one has already been registered\n"
     ]
    },
    {
     "name": "stdout",
     "output_type": "stream",
     "text": [
      "Overriding model.yaml nc=80 with nc=12\n",
      "\n",
      "                   from  n    params  module                                       arguments                     \n",
      "  0                  -1  1       928  ultralytics.nn.modules.conv.Conv             [3, 32, 3, 2]                 \n",
      "  1                  -1  1     18560  ultralytics.nn.modules.conv.Conv             [32, 64, 3, 2]                \n",
      "  2                  -1  1     29056  ultralytics.nn.modules.block.C2f             [64, 64, 1, True]             \n",
      "  3                  -1  1     73984  ultralytics.nn.modules.conv.Conv             [64, 128, 3, 2]               \n",
      "  4                  -1  2    197632  ultralytics.nn.modules.block.C2f             [128, 128, 2, True]           \n",
      "  5                  -1  1    295424  ultralytics.nn.modules.conv.Conv             [128, 256, 3, 2]              \n",
      "  6                  -1  2    788480  ultralytics.nn.modules.block.C2f             [256, 256, 2, True]           \n",
      "  7                  -1  1   1180672  ultralytics.nn.modules.conv.Conv             [256, 512, 3, 2]              \n",
      "  8                  -1  1   1838080  ultralytics.nn.modules.block.C2f             [512, 512, 1, True]           \n",
      "  9                  -1  1    656896  ultralytics.nn.modules.block.SPPF            [512, 512, 5]                 \n",
      " 10                  -1  1         0  torch.nn.modules.upsampling.Upsample         [None, 2, 'nearest']          \n",
      " 11             [-1, 6]  1         0  ultralytics.nn.modules.conv.Concat           [1]                           \n",
      " 12                  -1  1    591360  ultralytics.nn.modules.block.C2f             [768, 256, 1]                 \n",
      " 13                  -1  1         0  torch.nn.modules.upsampling.Upsample         [None, 2, 'nearest']          \n",
      " 14             [-1, 4]  1         0  ultralytics.nn.modules.conv.Concat           [1]                           \n",
      " 15                  -1  1    148224  ultralytics.nn.modules.block.C2f             [384, 128, 1]                 \n",
      " 16                  -1  1    147712  ultralytics.nn.modules.conv.Conv             [128, 128, 3, 2]              \n",
      " 17            [-1, 12]  1         0  ultralytics.nn.modules.conv.Concat           [1]                           \n",
      " 18                  -1  1    493056  ultralytics.nn.modules.block.C2f             [384, 256, 1]                 \n",
      " 19                  -1  1    590336  ultralytics.nn.modules.conv.Conv             [256, 256, 3, 2]              \n",
      " 20             [-1, 9]  1         0  ultralytics.nn.modules.conv.Concat           [1]                           \n",
      " 21                  -1  1   1969152  ultralytics.nn.modules.block.C2f             [768, 512, 1]                 \n",
      " 22        [15, 18, 21]  1   2120692  ultralytics.nn.modules.head.Detect           [12, [128, 256, 512]]         \n",
      "Model summary: 225 layers, 11,140,244 parameters, 11,140,228 gradients, 28.7 GFLOPs\n",
      "\n",
      "Transferred 349/355 items from pretrained weights\n",
      "\u001b[34m\u001b[1mTensorBoard: \u001b[0mStart with 'tensorboard --logdir YOLO_model_experiment_logs/yolov8s_lr0.001_batch32_img416_epochs100/training', view at http://localhost:6006/\n",
      "Freezing layer 'model.22.dfl.conv.weight'\n",
      "\u001b[34m\u001b[1mAMP: \u001b[0mrunning Automatic Mixed Precision (AMP) checks...\n",
      "\u001b[34m\u001b[1mAMP: \u001b[0mchecks passed ✅\n"
     ]
    },
    {
     "name": "stderr",
     "output_type": "stream",
     "text": [
      "\u001b[34m\u001b[1mtrain: \u001b[0mScanning /home/jayanth/ConsultingProject/DATA/output_dataset/yolo_dataset/train/labels... 2800 images, 0 backgrounds, 0 corrupt: 100%|██████████| 2800/2800 [00:01<00:00, 1489.78it/s]"
     ]
    },
    {
     "name": "stdout",
     "output_type": "stream",
     "text": [
      "\u001b[34m\u001b[1mtrain: \u001b[0mNew cache created: /home/jayanth/ConsultingProject/DATA/output_dataset/yolo_dataset/train/labels.cache\n"
     ]
    },
    {
     "name": "stderr",
     "output_type": "stream",
     "text": [
      "\n",
      "\u001b[34m\u001b[1mval: \u001b[0mScanning /home/jayanth/ConsultingProject/DATA/output_dataset/yolo_dataset/val/labels... 700 images, 0 backgrounds, 0 corrupt: 100%|██████████| 700/700 [00:00<00:00, 2615.15it/s]"
     ]
    },
    {
     "name": "stdout",
     "output_type": "stream",
     "text": [
      "\u001b[34m\u001b[1mval: \u001b[0mNew cache created: /home/jayanth/ConsultingProject/DATA/output_dataset/yolo_dataset/val/labels.cache\n"
     ]
    },
    {
     "name": "stderr",
     "output_type": "stream",
     "text": [
      "\n"
     ]
    },
    {
     "name": "stdout",
     "output_type": "stream",
     "text": [
      "Plotting labels to YOLO_model_experiment_logs/yolov8s_lr0.001_batch32_img416_epochs100/training/labels.jpg... \n",
      "\u001b[34m\u001b[1moptimizer:\u001b[0m 'optimizer=auto' found, ignoring 'lr0=0.001' and 'momentum=0.937' and determining best 'optimizer', 'lr0' and 'momentum' automatically... \n",
      "\u001b[34m\u001b[1moptimizer:\u001b[0m AdamW(lr=0.000625, momentum=0.9) with parameter groups 57 weight(decay=0.0), 64 weight(decay=0.0005), 63 bias(decay=0.0)\n",
      "\u001b[34m\u001b[1mTensorBoard: \u001b[0mmodel graph visualization added ✅\n",
      "Image sizes 416 train, 416 val\n",
      "Using 8 dataloader workers\n",
      "Logging results to \u001b[1mYOLO_model_experiment_logs/yolov8s_lr0.001_batch32_img416_epochs100/training\u001b[0m\n",
      "Starting training for 100 epochs...\n",
      "\n",
      "      Epoch    GPU_mem   box_loss   cls_loss   dfl_loss  Instances       Size\n"
     ]
    },
    {
     "name": "stderr",
     "output_type": "stream",
     "text": [
      "      1/100       3.3G      1.757      2.892      1.819         72        416: 100%|██████████| 88/88 [00:09<00:00,  9.17it/s]\n",
      "                 Class     Images  Instances      Box(P          R      mAP50  mAP50-95): 100%|██████████| 11/11 [00:01<00:00,  8.20it/s]"
     ]
    },
    {
     "name": "stdout",
     "output_type": "stream",
     "text": [
      "                   all        700       1937      0.567      0.355      0.399      0.188\n"
     ]
    },
    {
     "name": "stderr",
     "output_type": "stream",
     "text": [
      "\n"
     ]
    },
    {
     "name": "stdout",
     "output_type": "stream",
     "text": [
      "\n",
      "      Epoch    GPU_mem   box_loss   cls_loss   dfl_loss  Instances       Size\n"
     ]
    },
    {
     "name": "stderr",
     "output_type": "stream",
     "text": [
      "      2/100      3.34G      1.563      1.791      1.641         67        416: 100%|██████████| 88/88 [00:08<00:00,  9.85it/s]\n",
      "                 Class     Images  Instances      Box(P          R      mAP50  mAP50-95): 100%|██████████| 11/11 [00:01<00:00,  7.62it/s]"
     ]
    },
    {
     "name": "stdout",
     "output_type": "stream",
     "text": [
      "                   all        700       1937       0.72      0.436      0.485      0.237\n"
     ]
    },
    {
     "name": "stderr",
     "output_type": "stream",
     "text": [
      "\n"
     ]
    },
    {
     "name": "stdout",
     "output_type": "stream",
     "text": [
      "\n",
      "      Epoch    GPU_mem   box_loss   cls_loss   dfl_loss  Instances       Size\n"
     ]
    },
    {
     "name": "stderr",
     "output_type": "stream",
     "text": [
      "      3/100      3.47G      1.533      1.645      1.614         82        416: 100%|██████████| 88/88 [00:08<00:00, 10.23it/s]\n",
      "                 Class     Images  Instances      Box(P          R      mAP50  mAP50-95): 100%|██████████| 11/11 [00:01<00:00,  8.68it/s]"
     ]
    },
    {
     "name": "stdout",
     "output_type": "stream",
     "text": [
      "                   all        700       1937       0.63      0.436      0.445      0.224\n"
     ]
    },
    {
     "name": "stderr",
     "output_type": "stream",
     "text": [
      "\n"
     ]
    },
    {
     "name": "stdout",
     "output_type": "stream",
     "text": [
      "\n",
      "      Epoch    GPU_mem   box_loss   cls_loss   dfl_loss  Instances       Size\n"
     ]
    },
    {
     "name": "stderr",
     "output_type": "stream",
     "text": [
      "      4/100       3.4G      1.531      1.554      1.605        112        416: 100%|██████████| 88/88 [00:08<00:00, 10.34it/s]\n",
      "                 Class     Images  Instances      Box(P          R      mAP50  mAP50-95): 100%|██████████| 11/11 [00:01<00:00,  8.10it/s]"
     ]
    },
    {
     "name": "stdout",
     "output_type": "stream",
     "text": [
      "                   all        700       1937      0.683      0.469      0.536      0.265\n"
     ]
    },
    {
     "name": "stderr",
     "output_type": "stream",
     "text": [
      "\n"
     ]
    },
    {
     "name": "stdout",
     "output_type": "stream",
     "text": [
      "\n",
      "      Epoch    GPU_mem   box_loss   cls_loss   dfl_loss  Instances       Size\n"
     ]
    },
    {
     "name": "stderr",
     "output_type": "stream",
     "text": [
      "      5/100      3.34G      1.519      1.483      1.592        108        416: 100%|██████████| 88/88 [00:08<00:00, 10.71it/s]\n",
      "                 Class     Images  Instances      Box(P          R      mAP50  mAP50-95): 100%|██████████| 11/11 [00:01<00:00,  9.47it/s]"
     ]
    },
    {
     "name": "stdout",
     "output_type": "stream",
     "text": [
      "                   all        700       1937      0.414      0.647      0.556      0.297\n"
     ]
    },
    {
     "name": "stderr",
     "output_type": "stream",
     "text": [
      "\n"
     ]
    },
    {
     "name": "stdout",
     "output_type": "stream",
     "text": [
      "\n",
      "      Epoch    GPU_mem   box_loss   cls_loss   dfl_loss  Instances       Size\n"
     ]
    },
    {
     "name": "stderr",
     "output_type": "stream",
     "text": [
      "      6/100      3.32G      1.462      1.405      1.564        103        416: 100%|██████████| 88/88 [00:08<00:00, 10.11it/s]\n",
      "                 Class     Images  Instances      Box(P          R      mAP50  mAP50-95): 100%|██████████| 11/11 [00:01<00:00,  7.45it/s]"
     ]
    },
    {
     "name": "stdout",
     "output_type": "stream",
     "text": [
      "                   all        700       1937      0.537      0.594      0.559      0.319\n"
     ]
    },
    {
     "name": "stderr",
     "output_type": "stream",
     "text": [
      "\n"
     ]
    },
    {
     "name": "stdout",
     "output_type": "stream",
     "text": [
      "\n",
      "      Epoch    GPU_mem   box_loss   cls_loss   dfl_loss  Instances       Size\n"
     ]
    },
    {
     "name": "stderr",
     "output_type": "stream",
     "text": [
      "      7/100      3.33G      1.453      1.364      1.551         93        416: 100%|██████████| 88/88 [00:08<00:00, 10.25it/s]\n",
      "                 Class     Images  Instances      Box(P          R      mAP50  mAP50-95): 100%|██████████| 11/11 [00:01<00:00,  7.77it/s]"
     ]
    },
    {
     "name": "stdout",
     "output_type": "stream",
     "text": [
      "                   all        700       1937       0.73      0.534      0.567      0.311\n"
     ]
    },
    {
     "name": "stderr",
     "output_type": "stream",
     "text": [
      "\n"
     ]
    },
    {
     "name": "stdout",
     "output_type": "stream",
     "text": [
      "\n",
      "      Epoch    GPU_mem   box_loss   cls_loss   dfl_loss  Instances       Size\n"
     ]
    },
    {
     "name": "stderr",
     "output_type": "stream",
     "text": [
      "      8/100      3.31G       1.44      1.333      1.543         97        416: 100%|██████████| 88/88 [00:08<00:00,  9.97it/s]\n",
      "                 Class     Images  Instances      Box(P          R      mAP50  mAP50-95): 100%|██████████| 11/11 [00:01<00:00,  9.35it/s]"
     ]
    },
    {
     "name": "stdout",
     "output_type": "stream",
     "text": [
      "                   all        700       1937      0.751      0.609      0.644      0.357\n"
     ]
    },
    {
     "name": "stderr",
     "output_type": "stream",
     "text": [
      "\n"
     ]
    },
    {
     "name": "stdout",
     "output_type": "stream",
     "text": [
      "\n",
      "      Epoch    GPU_mem   box_loss   cls_loss   dfl_loss  Instances       Size\n"
     ]
    },
    {
     "name": "stderr",
     "output_type": "stream",
     "text": [
      "      9/100      3.33G      1.419      1.274      1.523        106        416: 100%|██████████| 88/88 [00:08<00:00, 10.75it/s]\n",
      "                 Class     Images  Instances      Box(P          R      mAP50  mAP50-95): 100%|██████████| 11/11 [00:01<00:00,  7.93it/s]"
     ]
    },
    {
     "name": "stdout",
     "output_type": "stream",
     "text": [
      "                   all        700       1937      0.706      0.602      0.647       0.36\n"
     ]
    },
    {
     "name": "stderr",
     "output_type": "stream",
     "text": [
      "\n"
     ]
    },
    {
     "name": "stdout",
     "output_type": "stream",
     "text": [
      "\n",
      "      Epoch    GPU_mem   box_loss   cls_loss   dfl_loss  Instances       Size\n"
     ]
    },
    {
     "name": "stderr",
     "output_type": "stream",
     "text": [
      "     10/100      3.34G      1.417      1.254      1.521         66        416: 100%|██████████| 88/88 [00:08<00:00, 10.86it/s]\n",
      "                 Class     Images  Instances      Box(P          R      mAP50  mAP50-95): 100%|██████████| 11/11 [00:01<00:00,  9.49it/s]"
     ]
    },
    {
     "name": "stdout",
     "output_type": "stream",
     "text": [
      "                   all        700       1937      0.649      0.572      0.602      0.347\n"
     ]
    },
    {
     "name": "stderr",
     "output_type": "stream",
     "text": [
      "\n"
     ]
    },
    {
     "name": "stdout",
     "output_type": "stream",
     "text": [
      "\n",
      "      Epoch    GPU_mem   box_loss   cls_loss   dfl_loss  Instances       Size\n"
     ]
    },
    {
     "name": "stderr",
     "output_type": "stream",
     "text": [
      "     11/100      3.34G      1.392       1.21      1.503         65        416: 100%|██████████| 88/88 [00:07<00:00, 11.07it/s]\n",
      "                 Class     Images  Instances      Box(P          R      mAP50  mAP50-95): 100%|██████████| 11/11 [00:01<00:00,  9.51it/s]\n"
     ]
    },
    {
     "name": "stdout",
     "output_type": "stream",
     "text": [
      "                   all        700       1937      0.589      0.654      0.662       0.37\n",
      "\n",
      "      Epoch    GPU_mem   box_loss   cls_loss   dfl_loss  Instances       Size\n"
     ]
    },
    {
     "name": "stderr",
     "output_type": "stream",
     "text": [
      "     12/100      3.32G      1.389      1.213      1.499         80        416: 100%|██████████| 88/88 [00:08<00:00, 10.08it/s]\n",
      "                 Class     Images  Instances      Box(P          R      mAP50  mAP50-95): 100%|██████████| 11/11 [00:01<00:00,  7.73it/s]\n"
     ]
    },
    {
     "name": "stdout",
     "output_type": "stream",
     "text": [
      "                   all        700       1937      0.751      0.624      0.686      0.399\n",
      "\n",
      "      Epoch    GPU_mem   box_loss   cls_loss   dfl_loss  Instances       Size\n"
     ]
    },
    {
     "name": "stderr",
     "output_type": "stream",
     "text": [
      "     13/100      3.32G      1.386      1.187      1.493         74        416: 100%|██████████| 88/88 [00:08<00:00, 10.02it/s]\n",
      "                 Class     Images  Instances      Box(P          R      mAP50  mAP50-95): 100%|██████████| 11/11 [00:01<00:00,  7.90it/s]"
     ]
    },
    {
     "name": "stdout",
     "output_type": "stream",
     "text": [
      "                   all        700       1937        0.7      0.657      0.694      0.383\n"
     ]
    },
    {
     "name": "stderr",
     "output_type": "stream",
     "text": [
      "\n"
     ]
    },
    {
     "name": "stdout",
     "output_type": "stream",
     "text": [
      "\n",
      "      Epoch    GPU_mem   box_loss   cls_loss   dfl_loss  Instances       Size\n"
     ]
    },
    {
     "name": "stderr",
     "output_type": "stream",
     "text": [
      "     14/100      3.33G      1.369      1.161      1.473         83        416: 100%|██████████| 88/88 [00:08<00:00, 10.07it/s]\n",
      "                 Class     Images  Instances      Box(P          R      mAP50  mAP50-95): 100%|██████████| 11/11 [00:01<00:00,  7.82it/s]\n"
     ]
    },
    {
     "name": "stdout",
     "output_type": "stream",
     "text": [
      "                   all        700       1937      0.586      0.642      0.639      0.384\n",
      "\n",
      "      Epoch    GPU_mem   box_loss   cls_loss   dfl_loss  Instances       Size\n"
     ]
    },
    {
     "name": "stderr",
     "output_type": "stream",
     "text": [
      "     15/100      3.31G      1.357      1.144      1.476         86        416: 100%|██████████| 88/88 [00:08<00:00, 10.16it/s]\n",
      "                 Class     Images  Instances      Box(P          R      mAP50  mAP50-95): 100%|██████████| 11/11 [00:01<00:00,  7.76it/s]"
     ]
    },
    {
     "name": "stdout",
     "output_type": "stream",
     "text": [
      "                   all        700       1937      0.701      0.648      0.689      0.413\n"
     ]
    },
    {
     "name": "stderr",
     "output_type": "stream",
     "text": [
      "\n"
     ]
    },
    {
     "name": "stdout",
     "output_type": "stream",
     "text": [
      "\n",
      "      Epoch    GPU_mem   box_loss   cls_loss   dfl_loss  Instances       Size\n"
     ]
    },
    {
     "name": "stderr",
     "output_type": "stream",
     "text": [
      "     16/100      3.33G      1.352      1.131       1.46         87        416: 100%|██████████| 88/88 [00:08<00:00, 10.10it/s]\n",
      "                 Class     Images  Instances      Box(P          R      mAP50  mAP50-95): 100%|██████████| 11/11 [00:01<00:00,  8.56it/s]"
     ]
    },
    {
     "name": "stdout",
     "output_type": "stream",
     "text": [
      "                   all        700       1937      0.746      0.645      0.706      0.432\n"
     ]
    },
    {
     "name": "stderr",
     "output_type": "stream",
     "text": [
      "\n"
     ]
    },
    {
     "name": "stdout",
     "output_type": "stream",
     "text": [
      "\n",
      "      Epoch    GPU_mem   box_loss   cls_loss   dfl_loss  Instances       Size\n"
     ]
    },
    {
     "name": "stderr",
     "output_type": "stream",
     "text": [
      "     17/100      3.31G      1.338      1.107       1.46         81        416: 100%|██████████| 88/88 [00:08<00:00, 10.05it/s]\n",
      "                 Class     Images  Instances      Box(P          R      mAP50  mAP50-95): 100%|██████████| 11/11 [00:01<00:00,  7.92it/s]\n"
     ]
    },
    {
     "name": "stdout",
     "output_type": "stream",
     "text": [
      "                   all        700       1937      0.755      0.658      0.724       0.45\n",
      "\n",
      "      Epoch    GPU_mem   box_loss   cls_loss   dfl_loss  Instances       Size\n"
     ]
    },
    {
     "name": "stderr",
     "output_type": "stream",
     "text": [
      "     18/100      3.32G      1.345      1.089       1.46         80        416: 100%|██████████| 88/88 [00:08<00:00, 10.08it/s]\n",
      "                 Class     Images  Instances      Box(P          R      mAP50  mAP50-95): 100%|██████████| 11/11 [00:01<00:00,  7.69it/s]"
     ]
    },
    {
     "name": "stdout",
     "output_type": "stream",
     "text": [
      "                   all        700       1937      0.595      0.724      0.703      0.425\n"
     ]
    },
    {
     "name": "stderr",
     "output_type": "stream",
     "text": [
      "\n"
     ]
    },
    {
     "name": "stdout",
     "output_type": "stream",
     "text": [
      "\n",
      "      Epoch    GPU_mem   box_loss   cls_loss   dfl_loss  Instances       Size\n"
     ]
    },
    {
     "name": "stderr",
     "output_type": "stream",
     "text": [
      "     19/100      3.28G      1.334      1.064      1.457         97        416: 100%|██████████| 88/88 [00:08<00:00, 10.20it/s]\n",
      "                 Class     Images  Instances      Box(P          R      mAP50  mAP50-95): 100%|██████████| 11/11 [00:01<00:00,  9.17it/s]\n"
     ]
    },
    {
     "name": "stdout",
     "output_type": "stream",
     "text": [
      "                   all        700       1937      0.791      0.639       0.71      0.439\n",
      "\n",
      "      Epoch    GPU_mem   box_loss   cls_loss   dfl_loss  Instances       Size\n"
     ]
    },
    {
     "name": "stderr",
     "output_type": "stream",
     "text": [
      "     20/100      3.46G      1.315      1.036      1.441         86        416: 100%|██████████| 88/88 [00:08<00:00, 10.05it/s]\n",
      "                 Class     Images  Instances      Box(P          R      mAP50  mAP50-95): 100%|██████████| 11/11 [00:01<00:00,  8.02it/s]"
     ]
    },
    {
     "name": "stdout",
     "output_type": "stream",
     "text": [
      "                   all        700       1937      0.627      0.709      0.705      0.428\n"
     ]
    },
    {
     "name": "stderr",
     "output_type": "stream",
     "text": [
      "\n"
     ]
    },
    {
     "name": "stdout",
     "output_type": "stream",
     "text": [
      "\n",
      "      Epoch    GPU_mem   box_loss   cls_loss   dfl_loss  Instances       Size\n"
     ]
    },
    {
     "name": "stderr",
     "output_type": "stream",
     "text": [
      "     21/100      3.33G      1.305      1.038      1.429         92        416: 100%|██████████| 88/88 [00:08<00:00, 10.23it/s]\n",
      "                 Class     Images  Instances      Box(P          R      mAP50  mAP50-95): 100%|██████████| 11/11 [00:01<00:00,  7.10it/s]"
     ]
    },
    {
     "name": "stdout",
     "output_type": "stream",
     "text": [
      "                   all        700       1937      0.764      0.662      0.722      0.451\n"
     ]
    },
    {
     "name": "stderr",
     "output_type": "stream",
     "text": [
      "\n"
     ]
    },
    {
     "name": "stdout",
     "output_type": "stream",
     "text": [
      "\n",
      "      Epoch    GPU_mem   box_loss   cls_loss   dfl_loss  Instances       Size\n"
     ]
    },
    {
     "name": "stderr",
     "output_type": "stream",
     "text": [
      "     22/100      3.32G      1.303       1.02      1.422         87        416: 100%|██████████| 88/88 [00:08<00:00, 10.33it/s]\n",
      "                 Class     Images  Instances      Box(P          R      mAP50  mAP50-95): 100%|██████████| 11/11 [00:01<00:00,  9.06it/s]"
     ]
    },
    {
     "name": "stdout",
     "output_type": "stream",
     "text": [
      "                   all        700       1937      0.675      0.658      0.711      0.434\n"
     ]
    },
    {
     "name": "stderr",
     "output_type": "stream",
     "text": [
      "\n"
     ]
    },
    {
     "name": "stdout",
     "output_type": "stream",
     "text": [
      "\n",
      "      Epoch    GPU_mem   box_loss   cls_loss   dfl_loss  Instances       Size\n"
     ]
    },
    {
     "name": "stderr",
     "output_type": "stream",
     "text": [
      "     23/100      3.31G      1.294      1.014      1.423         70        416: 100%|██████████| 88/88 [00:08<00:00, 10.45it/s]\n",
      "                 Class     Images  Instances      Box(P          R      mAP50  mAP50-95): 100%|██████████| 11/11 [00:01<00:00,  6.97it/s]"
     ]
    },
    {
     "name": "stdout",
     "output_type": "stream",
     "text": [
      "                   all        700       1937      0.651      0.696      0.693      0.421\n"
     ]
    },
    {
     "name": "stderr",
     "output_type": "stream",
     "text": [
      "\n"
     ]
    },
    {
     "name": "stdout",
     "output_type": "stream",
     "text": [
      "\n",
      "      Epoch    GPU_mem   box_loss   cls_loss   dfl_loss  Instances       Size\n"
     ]
    },
    {
     "name": "stderr",
     "output_type": "stream",
     "text": [
      "     24/100      3.27G      1.289      1.022      1.427        113        416: 100%|██████████| 88/88 [00:08<00:00, 10.08it/s]\n",
      "                 Class     Images  Instances      Box(P          R      mAP50  mAP50-95): 100%|██████████| 11/11 [00:01<00:00,  8.10it/s]"
     ]
    },
    {
     "name": "stdout",
     "output_type": "stream",
     "text": [
      "                   all        700       1937      0.633      0.703      0.729      0.439\n"
     ]
    },
    {
     "name": "stderr",
     "output_type": "stream",
     "text": [
      "\n"
     ]
    },
    {
     "name": "stdout",
     "output_type": "stream",
     "text": [
      "\n",
      "      Epoch    GPU_mem   box_loss   cls_loss   dfl_loss  Instances       Size\n"
     ]
    },
    {
     "name": "stderr",
     "output_type": "stream",
     "text": [
      "     25/100      3.31G      1.284     0.9821      1.413        100        416: 100%|██████████| 88/88 [00:08<00:00, 10.02it/s]\n",
      "                 Class     Images  Instances      Box(P          R      mAP50  mAP50-95): 100%|██████████| 11/11 [00:01<00:00,  8.58it/s]\n"
     ]
    },
    {
     "name": "stdout",
     "output_type": "stream",
     "text": [
      "                   all        700       1937      0.704      0.702      0.727      0.447\n",
      "\n",
      "      Epoch    GPU_mem   box_loss   cls_loss   dfl_loss  Instances       Size\n"
     ]
    },
    {
     "name": "stderr",
     "output_type": "stream",
     "text": [
      "     26/100      3.31G      1.269     0.9738      1.399         75        416: 100%|██████████| 88/88 [00:08<00:00, 10.08it/s]\n",
      "                 Class     Images  Instances      Box(P          R      mAP50  mAP50-95): 100%|██████████| 11/11 [00:01<00:00,  7.35it/s]"
     ]
    },
    {
     "name": "stdout",
     "output_type": "stream",
     "text": [
      "                   all        700       1937      0.713      0.719      0.753      0.464\n"
     ]
    },
    {
     "name": "stderr",
     "output_type": "stream",
     "text": [
      "\n"
     ]
    },
    {
     "name": "stdout",
     "output_type": "stream",
     "text": [
      "\n",
      "      Epoch    GPU_mem   box_loss   cls_loss   dfl_loss  Instances       Size\n"
     ]
    },
    {
     "name": "stderr",
     "output_type": "stream",
     "text": [
      "     27/100      3.31G      1.268     0.9626      1.399         86        416: 100%|██████████| 88/88 [00:08<00:00, 10.31it/s]\n",
      "                 Class     Images  Instances      Box(P          R      mAP50  mAP50-95): 100%|██████████| 11/11 [00:01<00:00,  9.40it/s]\n"
     ]
    },
    {
     "name": "stdout",
     "output_type": "stream",
     "text": [
      "                   all        700       1937      0.651      0.759      0.758      0.461\n",
      "\n",
      "      Epoch    GPU_mem   box_loss   cls_loss   dfl_loss  Instances       Size\n"
     ]
    },
    {
     "name": "stderr",
     "output_type": "stream",
     "text": [
      "     28/100      3.27G       1.27     0.9533        1.4         90        416: 100%|██████████| 88/88 [00:08<00:00,  9.96it/s]\n",
      "                 Class     Images  Instances      Box(P          R      mAP50  mAP50-95): 100%|██████████| 11/11 [00:01<00:00,  7.55it/s]"
     ]
    },
    {
     "name": "stdout",
     "output_type": "stream",
     "text": [
      "                   all        700       1937      0.641      0.729      0.723      0.447\n"
     ]
    },
    {
     "name": "stderr",
     "output_type": "stream",
     "text": [
      "\n"
     ]
    },
    {
     "name": "stdout",
     "output_type": "stream",
     "text": [
      "\n",
      "      Epoch    GPU_mem   box_loss   cls_loss   dfl_loss  Instances       Size\n"
     ]
    },
    {
     "name": "stderr",
     "output_type": "stream",
     "text": [
      "     29/100      3.27G      1.249     0.9449      1.388        118        416: 100%|██████████| 88/88 [00:08<00:00,  9.98it/s]\n",
      "                 Class     Images  Instances      Box(P          R      mAP50  mAP50-95): 100%|██████████| 11/11 [00:01<00:00,  8.39it/s]"
     ]
    },
    {
     "name": "stdout",
     "output_type": "stream",
     "text": [
      "                   all        700       1937      0.734      0.733      0.748      0.475\n"
     ]
    },
    {
     "name": "stderr",
     "output_type": "stream",
     "text": [
      "\n"
     ]
    },
    {
     "name": "stdout",
     "output_type": "stream",
     "text": [
      "\n",
      "      Epoch    GPU_mem   box_loss   cls_loss   dfl_loss  Instances       Size\n"
     ]
    },
    {
     "name": "stderr",
     "output_type": "stream",
     "text": [
      "     30/100      3.32G      1.245     0.9267      1.384         76        416: 100%|██████████| 88/88 [00:08<00:00, 10.73it/s]\n",
      "                 Class     Images  Instances      Box(P          R      mAP50  mAP50-95): 100%|██████████| 11/11 [00:01<00:00,  8.03it/s]\n"
     ]
    },
    {
     "name": "stdout",
     "output_type": "stream",
     "text": [
      "                   all        700       1937      0.722      0.726      0.741      0.455\n",
      "\n",
      "      Epoch    GPU_mem   box_loss   cls_loss   dfl_loss  Instances       Size\n"
     ]
    },
    {
     "name": "stderr",
     "output_type": "stream",
     "text": [
      "     31/100      3.43G       1.24     0.9148      1.375         72        416: 100%|██████████| 88/88 [00:08<00:00, 10.08it/s]\n",
      "                 Class     Images  Instances      Box(P          R      mAP50  mAP50-95): 100%|██████████| 11/11 [00:01<00:00,  7.82it/s]"
     ]
    },
    {
     "name": "stdout",
     "output_type": "stream",
     "text": [
      "                   all        700       1937      0.708      0.739      0.747      0.464\n"
     ]
    },
    {
     "name": "stderr",
     "output_type": "stream",
     "text": [
      "\n"
     ]
    },
    {
     "name": "stdout",
     "output_type": "stream",
     "text": [
      "\n",
      "      Epoch    GPU_mem   box_loss   cls_loss   dfl_loss  Instances       Size\n"
     ]
    },
    {
     "name": "stderr",
     "output_type": "stream",
     "text": [
      "     32/100      3.44G      1.245      0.921      1.374         80        416: 100%|██████████| 88/88 [00:08<00:00, 10.05it/s]\n",
      "                 Class     Images  Instances      Box(P          R      mAP50  mAP50-95): 100%|██████████| 11/11 [00:01<00:00,  8.94it/s]\n"
     ]
    },
    {
     "name": "stdout",
     "output_type": "stream",
     "text": [
      "                   all        700       1937      0.715      0.763       0.77       0.48\n",
      "\n",
      "      Epoch    GPU_mem   box_loss   cls_loss   dfl_loss  Instances       Size\n"
     ]
    },
    {
     "name": "stderr",
     "output_type": "stream",
     "text": [
      "     33/100      3.32G      1.229     0.9205      1.374         76        416: 100%|██████████| 88/88 [00:08<00:00, 10.74it/s]\n",
      "                 Class     Images  Instances      Box(P          R      mAP50  mAP50-95): 100%|██████████| 11/11 [00:01<00:00,  8.29it/s]\n"
     ]
    },
    {
     "name": "stdout",
     "output_type": "stream",
     "text": [
      "                   all        700       1937      0.764      0.728      0.775       0.49\n",
      "\n",
      "      Epoch    GPU_mem   box_loss   cls_loss   dfl_loss  Instances       Size\n"
     ]
    },
    {
     "name": "stderr",
     "output_type": "stream",
     "text": [
      "     34/100      3.32G      1.228     0.8953      1.367         82        416: 100%|██████████| 88/88 [00:08<00:00, 10.90it/s]\n",
      "                 Class     Images  Instances      Box(P          R      mAP50  mAP50-95): 100%|██████████| 11/11 [00:01<00:00,  8.72it/s]\n"
     ]
    },
    {
     "name": "stdout",
     "output_type": "stream",
     "text": [
      "                   all        700       1937      0.682      0.766       0.77      0.488\n",
      "\n",
      "      Epoch    GPU_mem   box_loss   cls_loss   dfl_loss  Instances       Size\n"
     ]
    },
    {
     "name": "stderr",
     "output_type": "stream",
     "text": [
      "     35/100      3.39G      1.213     0.8783       1.36         72        416: 100%|██████████| 88/88 [00:08<00:00,  9.86it/s]\n",
      "                 Class     Images  Instances      Box(P          R      mAP50  mAP50-95): 100%|██████████| 11/11 [00:01<00:00,  8.88it/s]\n"
     ]
    },
    {
     "name": "stdout",
     "output_type": "stream",
     "text": [
      "                   all        700       1937      0.719      0.738      0.769      0.466\n",
      "\n",
      "      Epoch    GPU_mem   box_loss   cls_loss   dfl_loss  Instances       Size\n"
     ]
    },
    {
     "name": "stderr",
     "output_type": "stream",
     "text": [
      "     36/100      3.27G      1.224     0.8878      1.363        115        416: 100%|██████████| 88/88 [00:08<00:00, 10.10it/s]\n",
      "                 Class     Images  Instances      Box(P          R      mAP50  mAP50-95): 100%|██████████| 11/11 [00:01<00:00,  8.02it/s]\n"
     ]
    },
    {
     "name": "stdout",
     "output_type": "stream",
     "text": [
      "                   all        700       1937       0.84      0.717      0.779      0.492\n",
      "\n",
      "      Epoch    GPU_mem   box_loss   cls_loss   dfl_loss  Instances       Size\n"
     ]
    },
    {
     "name": "stderr",
     "output_type": "stream",
     "text": [
      "     37/100      3.34G      1.216     0.8691      1.357         99        416: 100%|██████████| 88/88 [00:08<00:00,  9.91it/s]\n",
      "                 Class     Images  Instances      Box(P          R      mAP50  mAP50-95): 100%|██████████| 11/11 [00:01<00:00,  7.33it/s]\n"
     ]
    },
    {
     "name": "stdout",
     "output_type": "stream",
     "text": [
      "                   all        700       1937      0.845      0.646       0.76      0.475\n",
      "\n",
      "      Epoch    GPU_mem   box_loss   cls_loss   dfl_loss  Instances       Size\n"
     ]
    },
    {
     "name": "stderr",
     "output_type": "stream",
     "text": [
      "     38/100      3.33G      1.198     0.8637      1.348         93        416: 100%|██████████| 88/88 [00:08<00:00, 10.28it/s]\n",
      "                 Class     Images  Instances      Box(P          R      mAP50  mAP50-95): 100%|██████████| 11/11 [00:01<00:00,  9.17it/s]\n"
     ]
    },
    {
     "name": "stdout",
     "output_type": "stream",
     "text": [
      "                   all        700       1937      0.763      0.792      0.819      0.511\n",
      "\n",
      "      Epoch    GPU_mem   box_loss   cls_loss   dfl_loss  Instances       Size\n"
     ]
    },
    {
     "name": "stderr",
     "output_type": "stream",
     "text": [
      "     39/100      3.31G      1.192     0.8462      1.344         75        416: 100%|██████████| 88/88 [00:08<00:00, 10.27it/s]\n",
      "                 Class     Images  Instances      Box(P          R      mAP50  mAP50-95): 100%|██████████| 11/11 [00:01<00:00,  6.85it/s]\n"
     ]
    },
    {
     "name": "stdout",
     "output_type": "stream",
     "text": [
      "                   all        700       1937      0.737      0.744       0.79      0.503\n",
      "\n",
      "      Epoch    GPU_mem   box_loss   cls_loss   dfl_loss  Instances       Size\n"
     ]
    },
    {
     "name": "stderr",
     "output_type": "stream",
     "text": [
      "     40/100       3.3G       1.19     0.8422      1.341         69        416: 100%|██████████| 88/88 [00:08<00:00, 10.08it/s]\n",
      "                 Class     Images  Instances      Box(P          R      mAP50  mAP50-95): 100%|██████████| 11/11 [00:01<00:00,  8.36it/s]"
     ]
    },
    {
     "name": "stdout",
     "output_type": "stream",
     "text": [
      "                   all        700       1937      0.701      0.762      0.772      0.498\n"
     ]
    },
    {
     "name": "stderr",
     "output_type": "stream",
     "text": [
      "\n"
     ]
    },
    {
     "name": "stdout",
     "output_type": "stream",
     "text": [
      "\n",
      "      Epoch    GPU_mem   box_loss   cls_loss   dfl_loss  Instances       Size\n"
     ]
    },
    {
     "name": "stderr",
     "output_type": "stream",
     "text": [
      "     41/100      3.33G      1.181     0.8343      1.335         71        416: 100%|██████████| 88/88 [00:08<00:00, 10.51it/s]\n",
      "                 Class     Images  Instances      Box(P          R      mAP50  mAP50-95): 100%|██████████| 11/11 [00:01<00:00,  9.59it/s]\n"
     ]
    },
    {
     "name": "stdout",
     "output_type": "stream",
     "text": [
      "                   all        700       1937      0.697      0.841      0.782      0.499\n",
      "\n",
      "      Epoch    GPU_mem   box_loss   cls_loss   dfl_loss  Instances       Size\n"
     ]
    },
    {
     "name": "stderr",
     "output_type": "stream",
     "text": [
      "     42/100      3.33G      1.174     0.8306      1.341         68        416: 100%|██████████| 88/88 [00:08<00:00, 10.17it/s]\n",
      "                 Class     Images  Instances      Box(P          R      mAP50  mAP50-95): 100%|██████████| 11/11 [00:01<00:00,  7.62it/s]"
     ]
    },
    {
     "name": "stdout",
     "output_type": "stream",
     "text": [
      "                   all        700       1937      0.714      0.748      0.791      0.498\n"
     ]
    },
    {
     "name": "stderr",
     "output_type": "stream",
     "text": [
      "\n"
     ]
    },
    {
     "name": "stdout",
     "output_type": "stream",
     "text": [
      "\n",
      "      Epoch    GPU_mem   box_loss   cls_loss   dfl_loss  Instances       Size\n"
     ]
    },
    {
     "name": "stderr",
     "output_type": "stream",
     "text": [
      "     43/100      3.32G      1.177     0.8156      1.333         92        416: 100%|██████████| 88/88 [00:08<00:00, 10.23it/s]\n",
      "                 Class     Images  Instances      Box(P          R      mAP50  mAP50-95): 100%|██████████| 11/11 [00:01<00:00,  8.69it/s]\n"
     ]
    },
    {
     "name": "stdout",
     "output_type": "stream",
     "text": [
      "                   all        700       1937      0.674       0.81       0.81      0.502\n",
      "\n",
      "      Epoch    GPU_mem   box_loss   cls_loss   dfl_loss  Instances       Size\n"
     ]
    },
    {
     "name": "stderr",
     "output_type": "stream",
     "text": [
      "     44/100      3.32G      1.161     0.8191      1.318         76        416: 100%|██████████| 88/88 [00:08<00:00, 10.00it/s]\n",
      "                 Class     Images  Instances      Box(P          R      mAP50  mAP50-95): 100%|██████████| 11/11 [00:01<00:00,  7.38it/s]"
     ]
    },
    {
     "name": "stdout",
     "output_type": "stream",
     "text": [
      "                   all        700       1937      0.758      0.749       0.78      0.484\n"
     ]
    },
    {
     "name": "stderr",
     "output_type": "stream",
     "text": [
      "\n"
     ]
    },
    {
     "name": "stdout",
     "output_type": "stream",
     "text": [
      "\n",
      "      Epoch    GPU_mem   box_loss   cls_loss   dfl_loss  Instances       Size\n"
     ]
    },
    {
     "name": "stderr",
     "output_type": "stream",
     "text": [
      "     45/100      3.27G      1.167     0.8165      1.331         79        416: 100%|██████████| 88/88 [00:08<00:00, 10.43it/s]\n",
      "                 Class     Images  Instances      Box(P          R      mAP50  mAP50-95): 100%|██████████| 11/11 [00:01<00:00,  9.56it/s]"
     ]
    },
    {
     "name": "stdout",
     "output_type": "stream",
     "text": [
      "                   all        700       1937      0.717      0.825      0.801       0.51\n"
     ]
    },
    {
     "name": "stderr",
     "output_type": "stream",
     "text": [
      "\n"
     ]
    },
    {
     "name": "stdout",
     "output_type": "stream",
     "text": [
      "\n",
      "      Epoch    GPU_mem   box_loss   cls_loss   dfl_loss  Instances       Size\n"
     ]
    },
    {
     "name": "stderr",
     "output_type": "stream",
     "text": [
      "     46/100      3.31G      1.149     0.8062      1.317         93        416: 100%|██████████| 88/88 [00:08<00:00, 10.33it/s]\n",
      "                 Class     Images  Instances      Box(P          R      mAP50  mAP50-95): 100%|██████████| 11/11 [00:01<00:00,  7.31it/s]"
     ]
    },
    {
     "name": "stdout",
     "output_type": "stream",
     "text": [
      "                   all        700       1937       0.78      0.773      0.805      0.527\n"
     ]
    },
    {
     "name": "stderr",
     "output_type": "stream",
     "text": [
      "\n"
     ]
    },
    {
     "name": "stdout",
     "output_type": "stream",
     "text": [
      "\n",
      "      Epoch    GPU_mem   box_loss   cls_loss   dfl_loss  Instances       Size\n"
     ]
    },
    {
     "name": "stderr",
     "output_type": "stream",
     "text": [
      "     47/100      3.32G      1.145     0.7983      1.314         90        416: 100%|██████████| 88/88 [00:08<00:00, 10.05it/s]\n",
      "                 Class     Images  Instances      Box(P          R      mAP50  mAP50-95): 100%|██████████| 11/11 [00:01<00:00,  7.47it/s]"
     ]
    },
    {
     "name": "stdout",
     "output_type": "stream",
     "text": [
      "                   all        700       1937       0.74      0.745      0.798      0.509\n"
     ]
    },
    {
     "name": "stderr",
     "output_type": "stream",
     "text": [
      "\n"
     ]
    },
    {
     "name": "stdout",
     "output_type": "stream",
     "text": [
      "\n",
      "      Epoch    GPU_mem   box_loss   cls_loss   dfl_loss  Instances       Size\n"
     ]
    },
    {
     "name": "stderr",
     "output_type": "stream",
     "text": [
      "     48/100      3.35G      1.138      0.785      1.303         70        416: 100%|██████████| 88/88 [00:08<00:00, 10.11it/s]\n",
      "                 Class     Images  Instances      Box(P          R      mAP50  mAP50-95): 100%|██████████| 11/11 [00:01<00:00,  8.25it/s]\n"
     ]
    },
    {
     "name": "stdout",
     "output_type": "stream",
     "text": [
      "                   all        700       1937      0.709      0.796      0.776      0.495\n",
      "\n",
      "      Epoch    GPU_mem   box_loss   cls_loss   dfl_loss  Instances       Size\n"
     ]
    },
    {
     "name": "stderr",
     "output_type": "stream",
     "text": [
      "     49/100      3.31G       1.12     0.7819      1.293         75        416: 100%|██████████| 88/88 [00:07<00:00, 11.06it/s]\n",
      "                 Class     Images  Instances      Box(P          R      mAP50  mAP50-95): 100%|██████████| 11/11 [00:01<00:00,  9.14it/s]\n"
     ]
    },
    {
     "name": "stdout",
     "output_type": "stream",
     "text": [
      "                   all        700       1937      0.739       0.79      0.798      0.496\n",
      "\n",
      "      Epoch    GPU_mem   box_loss   cls_loss   dfl_loss  Instances       Size\n"
     ]
    },
    {
     "name": "stderr",
     "output_type": "stream",
     "text": [
      "     50/100      3.32G      1.125     0.7888      1.296         61        416: 100%|██████████| 88/88 [00:07<00:00, 11.02it/s]\n",
      "                 Class     Images  Instances      Box(P          R      mAP50  mAP50-95): 100%|██████████| 11/11 [00:01<00:00,  9.60it/s]"
     ]
    },
    {
     "name": "stdout",
     "output_type": "stream",
     "text": [
      "                   all        700       1937      0.775      0.737      0.813      0.516\n"
     ]
    },
    {
     "name": "stderr",
     "output_type": "stream",
     "text": [
      "\n"
     ]
    },
    {
     "name": "stdout",
     "output_type": "stream",
     "text": [
      "\n",
      "      Epoch    GPU_mem   box_loss   cls_loss   dfl_loss  Instances       Size\n"
     ]
    },
    {
     "name": "stderr",
     "output_type": "stream",
     "text": [
      "     51/100      3.34G      1.128     0.7782      1.308         74        416: 100%|██████████| 88/88 [00:07<00:00, 11.05it/s]\n",
      "                 Class     Images  Instances      Box(P          R      mAP50  mAP50-95): 100%|██████████| 11/11 [00:01<00:00,  8.97it/s]"
     ]
    },
    {
     "name": "stdout",
     "output_type": "stream",
     "text": [
      "                   all        700       1937      0.805      0.793      0.798      0.505\n"
     ]
    },
    {
     "name": "stderr",
     "output_type": "stream",
     "text": [
      "\n"
     ]
    },
    {
     "name": "stdout",
     "output_type": "stream",
     "text": [
      "\n",
      "      Epoch    GPU_mem   box_loss   cls_loss   dfl_loss  Instances       Size\n"
     ]
    },
    {
     "name": "stderr",
     "output_type": "stream",
     "text": [
      "     52/100      3.27G      1.108     0.7523      1.285        106        416: 100%|██████████| 88/88 [00:07<00:00, 11.09it/s]\n",
      "                 Class     Images  Instances      Box(P          R      mAP50  mAP50-95): 100%|██████████| 11/11 [00:01<00:00,  9.60it/s]"
     ]
    },
    {
     "name": "stdout",
     "output_type": "stream",
     "text": [
      "                   all        700       1937      0.753      0.812      0.818      0.529\n"
     ]
    },
    {
     "name": "stderr",
     "output_type": "stream",
     "text": [
      "\n"
     ]
    },
    {
     "name": "stdout",
     "output_type": "stream",
     "text": [
      "\n",
      "      Epoch    GPU_mem   box_loss   cls_loss   dfl_loss  Instances       Size\n"
     ]
    },
    {
     "name": "stderr",
     "output_type": "stream",
     "text": [
      "     53/100      3.32G      1.107     0.7571      1.288        103        416: 100%|██████████| 88/88 [00:08<00:00, 10.11it/s]\n",
      "                 Class     Images  Instances      Box(P          R      mAP50  mAP50-95): 100%|██████████| 11/11 [00:01<00:00,  7.10it/s]"
     ]
    },
    {
     "name": "stdout",
     "output_type": "stream",
     "text": [
      "                   all        700       1937      0.711      0.795      0.802      0.519\n"
     ]
    },
    {
     "name": "stderr",
     "output_type": "stream",
     "text": [
      "\n"
     ]
    },
    {
     "name": "stdout",
     "output_type": "stream",
     "text": [
      "\n",
      "      Epoch    GPU_mem   box_loss   cls_loss   dfl_loss  Instances       Size\n"
     ]
    },
    {
     "name": "stderr",
     "output_type": "stream",
     "text": [
      "     54/100      3.32G      1.098     0.7462      1.282         91        416: 100%|██████████| 88/88 [00:08<00:00, 10.69it/s]\n",
      "                 Class     Images  Instances      Box(P          R      mAP50  mAP50-95): 100%|██████████| 11/11 [00:01<00:00,  9.37it/s]\n"
     ]
    },
    {
     "name": "stdout",
     "output_type": "stream",
     "text": [
      "                   all        700       1937      0.729      0.767      0.792      0.507\n",
      "\n",
      "      Epoch    GPU_mem   box_loss   cls_loss   dfl_loss  Instances       Size\n"
     ]
    },
    {
     "name": "stderr",
     "output_type": "stream",
     "text": [
      "     55/100      3.34G      1.106     0.7242      1.278         70        416: 100%|██████████| 88/88 [00:08<00:00, 10.24it/s]\n",
      "                 Class     Images  Instances      Box(P          R      mAP50  mAP50-95): 100%|██████████| 11/11 [00:01<00:00,  8.95it/s]"
     ]
    },
    {
     "name": "stdout",
     "output_type": "stream",
     "text": [
      "                   all        700       1937      0.759      0.813      0.802      0.513\n"
     ]
    },
    {
     "name": "stderr",
     "output_type": "stream",
     "text": [
      "\n"
     ]
    },
    {
     "name": "stdout",
     "output_type": "stream",
     "text": [
      "\n",
      "      Epoch    GPU_mem   box_loss   cls_loss   dfl_loss  Instances       Size\n"
     ]
    },
    {
     "name": "stderr",
     "output_type": "stream",
     "text": [
      "     56/100      3.34G      1.095      0.739      1.281         68        416: 100%|██████████| 88/88 [00:08<00:00,  9.94it/s]\n",
      "                 Class     Images  Instances      Box(P          R      mAP50  mAP50-95): 100%|██████████| 11/11 [00:01<00:00,  8.08it/s]"
     ]
    },
    {
     "name": "stdout",
     "output_type": "stream",
     "text": [
      "                   all        700       1937      0.833      0.773      0.811      0.523\n"
     ]
    },
    {
     "name": "stderr",
     "output_type": "stream",
     "text": [
      "\n"
     ]
    },
    {
     "name": "stdout",
     "output_type": "stream",
     "text": [
      "\n",
      "      Epoch    GPU_mem   box_loss   cls_loss   dfl_loss  Instances       Size\n"
     ]
    },
    {
     "name": "stderr",
     "output_type": "stream",
     "text": [
      "     57/100      3.32G       1.08      0.725      1.269         82        416: 100%|██████████| 88/88 [00:08<00:00, 10.58it/s]\n",
      "                 Class     Images  Instances      Box(P          R      mAP50  mAP50-95): 100%|██████████| 11/11 [00:01<00:00,  8.40it/s]"
     ]
    },
    {
     "name": "stdout",
     "output_type": "stream",
     "text": [
      "                   all        700       1937      0.752      0.808      0.809      0.527\n"
     ]
    },
    {
     "name": "stderr",
     "output_type": "stream",
     "text": [
      "\n"
     ]
    },
    {
     "name": "stdout",
     "output_type": "stream",
     "text": [
      "\n",
      "      Epoch    GPU_mem   box_loss   cls_loss   dfl_loss  Instances       Size\n"
     ]
    },
    {
     "name": "stderr",
     "output_type": "stream",
     "text": [
      "     58/100      3.34G      1.071     0.7212      1.269         61        416: 100%|██████████| 88/88 [00:08<00:00, 10.13it/s]\n",
      "                 Class     Images  Instances      Box(P          R      mAP50  mAP50-95): 100%|██████████| 11/11 [00:01<00:00,  7.84it/s]"
     ]
    },
    {
     "name": "stdout",
     "output_type": "stream",
     "text": [
      "                   all        700       1937      0.724      0.841      0.826      0.538\n"
     ]
    },
    {
     "name": "stderr",
     "output_type": "stream",
     "text": [
      "\n"
     ]
    },
    {
     "name": "stdout",
     "output_type": "stream",
     "text": [
      "\n",
      "      Epoch    GPU_mem   box_loss   cls_loss   dfl_loss  Instances       Size\n"
     ]
    },
    {
     "name": "stderr",
     "output_type": "stream",
     "text": [
      "     59/100      3.32G      1.079     0.7232      1.268         59        416: 100%|██████████| 88/88 [00:08<00:00,  9.98it/s]\n",
      "                 Class     Images  Instances      Box(P          R      mAP50  mAP50-95): 100%|██████████| 11/11 [00:01<00:00,  7.44it/s]"
     ]
    },
    {
     "name": "stdout",
     "output_type": "stream",
     "text": [
      "                   all        700       1937      0.762      0.817      0.804      0.522\n"
     ]
    },
    {
     "name": "stderr",
     "output_type": "stream",
     "text": [
      "\n"
     ]
    },
    {
     "name": "stdout",
     "output_type": "stream",
     "text": [
      "\n",
      "      Epoch    GPU_mem   box_loss   cls_loss   dfl_loss  Instances       Size\n"
     ]
    },
    {
     "name": "stderr",
     "output_type": "stream",
     "text": [
      "     60/100      3.32G      1.063     0.7089      1.256        105        416: 100%|██████████| 88/88 [00:08<00:00, 10.10it/s]\n",
      "                 Class     Images  Instances      Box(P          R      mAP50  mAP50-95): 100%|██████████| 11/11 [00:01<00:00,  8.40it/s]\n"
     ]
    },
    {
     "name": "stdout",
     "output_type": "stream",
     "text": [
      "                   all        700       1937      0.801      0.765      0.808      0.529\n",
      "\n",
      "      Epoch    GPU_mem   box_loss   cls_loss   dfl_loss  Instances       Size\n"
     ]
    },
    {
     "name": "stderr",
     "output_type": "stream",
     "text": [
      "     61/100      3.34G      1.069      0.716      1.264         73        416: 100%|██████████| 88/88 [00:08<00:00, 10.04it/s]\n",
      "                 Class     Images  Instances      Box(P          R      mAP50  mAP50-95): 100%|██████████| 11/11 [00:01<00:00,  7.79it/s]"
     ]
    },
    {
     "name": "stdout",
     "output_type": "stream",
     "text": [
      "                   all        700       1937      0.766      0.809      0.812      0.519\n"
     ]
    },
    {
     "name": "stderr",
     "output_type": "stream",
     "text": [
      "\n"
     ]
    },
    {
     "name": "stdout",
     "output_type": "stream",
     "text": [
      "\n",
      "      Epoch    GPU_mem   box_loss   cls_loss   dfl_loss  Instances       Size\n"
     ]
    },
    {
     "name": "stderr",
     "output_type": "stream",
     "text": [
      "     62/100      3.35G      1.043     0.6953      1.258         78        416: 100%|██████████| 88/88 [00:08<00:00, 10.02it/s]\n",
      "                 Class     Images  Instances      Box(P          R      mAP50  mAP50-95): 100%|██████████| 11/11 [00:01<00:00,  6.41it/s]\n"
     ]
    },
    {
     "name": "stdout",
     "output_type": "stream",
     "text": [
      "                   all        700       1937      0.777      0.766      0.803      0.528\n",
      "\n",
      "      Epoch    GPU_mem   box_loss   cls_loss   dfl_loss  Instances       Size\n"
     ]
    },
    {
     "name": "stderr",
     "output_type": "stream",
     "text": [
      "     63/100      3.34G      1.046      0.694      1.243         76        416: 100%|██████████| 88/88 [00:08<00:00, 10.18it/s]\n",
      "                 Class     Images  Instances      Box(P          R      mAP50  mAP50-95): 100%|██████████| 11/11 [00:01<00:00,  8.33it/s]"
     ]
    },
    {
     "name": "stdout",
     "output_type": "stream",
     "text": [
      "                   all        700       1937      0.787      0.788      0.794      0.518\n"
     ]
    },
    {
     "name": "stderr",
     "output_type": "stream",
     "text": [
      "\n"
     ]
    },
    {
     "name": "stdout",
     "output_type": "stream",
     "text": [
      "\n",
      "      Epoch    GPU_mem   box_loss   cls_loss   dfl_loss  Instances       Size\n"
     ]
    },
    {
     "name": "stderr",
     "output_type": "stream",
     "text": [
      "     64/100      3.34G      1.046     0.6932      1.251         67        416: 100%|██████████| 88/88 [00:08<00:00, 10.16it/s]\n",
      "                 Class     Images  Instances      Box(P          R      mAP50  mAP50-95): 100%|██████████| 11/11 [00:01<00:00,  9.56it/s]"
     ]
    },
    {
     "name": "stdout",
     "output_type": "stream",
     "text": [
      "                   all        700       1937      0.767      0.807      0.809      0.527\n"
     ]
    },
    {
     "name": "stderr",
     "output_type": "stream",
     "text": [
      "\n"
     ]
    },
    {
     "name": "stdout",
     "output_type": "stream",
     "text": [
      "\n",
      "      Epoch    GPU_mem   box_loss   cls_loss   dfl_loss  Instances       Size\n"
     ]
    },
    {
     "name": "stderr",
     "output_type": "stream",
     "text": [
      "     65/100      3.32G      1.035     0.6864       1.24         95        416: 100%|██████████| 88/88 [00:08<00:00, 10.62it/s]\n",
      "                 Class     Images  Instances      Box(P          R      mAP50  mAP50-95): 100%|██████████| 11/11 [00:01<00:00,  9.60it/s]\n"
     ]
    },
    {
     "name": "stdout",
     "output_type": "stream",
     "text": [
      "                   all        700       1937       0.75       0.83      0.811      0.525\n",
      "\n",
      "      Epoch    GPU_mem   box_loss   cls_loss   dfl_loss  Instances       Size\n"
     ]
    },
    {
     "name": "stderr",
     "output_type": "stream",
     "text": [
      "     66/100      3.32G      1.044     0.6859      1.249        114        416: 100%|██████████| 88/88 [00:08<00:00,  9.81it/s]\n",
      "                 Class     Images  Instances      Box(P          R      mAP50  mAP50-95): 100%|██████████| 11/11 [00:01<00:00,  9.01it/s]"
     ]
    },
    {
     "name": "stdout",
     "output_type": "stream",
     "text": [
      "                   all        700       1937      0.747      0.854       0.82      0.523\n"
     ]
    },
    {
     "name": "stderr",
     "output_type": "stream",
     "text": [
      "\n"
     ]
    },
    {
     "name": "stdout",
     "output_type": "stream",
     "text": [
      "\n",
      "      Epoch    GPU_mem   box_loss   cls_loss   dfl_loss  Instances       Size\n"
     ]
    },
    {
     "name": "stderr",
     "output_type": "stream",
     "text": [
      "     67/100      3.32G       1.03     0.6751      1.241         84        416: 100%|██████████| 88/88 [00:08<00:00, 10.40it/s]\n",
      "                 Class     Images  Instances      Box(P          R      mAP50  mAP50-95): 100%|██████████| 11/11 [00:01<00:00,  9.59it/s]"
     ]
    },
    {
     "name": "stdout",
     "output_type": "stream",
     "text": [
      "                   all        700       1937      0.807      0.772      0.805      0.526\n"
     ]
    },
    {
     "name": "stderr",
     "output_type": "stream",
     "text": [
      "\n"
     ]
    },
    {
     "name": "stdout",
     "output_type": "stream",
     "text": [
      "\n",
      "      Epoch    GPU_mem   box_loss   cls_loss   dfl_loss  Instances       Size\n"
     ]
    },
    {
     "name": "stderr",
     "output_type": "stream",
     "text": [
      "     68/100      3.34G      1.026       0.68      1.242         71        416: 100%|██████████| 88/88 [00:08<00:00,  9.94it/s]\n",
      "                 Class     Images  Instances      Box(P          R      mAP50  mAP50-95): 100%|██████████| 11/11 [00:01<00:00,  7.18it/s]"
     ]
    },
    {
     "name": "stdout",
     "output_type": "stream",
     "text": [
      "                   all        700       1937      0.764      0.778        0.8      0.513\n"
     ]
    },
    {
     "name": "stderr",
     "output_type": "stream",
     "text": [
      "\n"
     ]
    },
    {
     "name": "stdout",
     "output_type": "stream",
     "text": [
      "\n",
      "      Epoch    GPU_mem   box_loss   cls_loss   dfl_loss  Instances       Size\n"
     ]
    },
    {
     "name": "stderr",
     "output_type": "stream",
     "text": [
      "     69/100      3.34G      1.022     0.6717      1.233         88        416: 100%|██████████| 88/88 [00:08<00:00,  9.91it/s]\n",
      "                 Class     Images  Instances      Box(P          R      mAP50  mAP50-95): 100%|██████████| 11/11 [00:01<00:00,  8.84it/s]"
     ]
    },
    {
     "name": "stdout",
     "output_type": "stream",
     "text": [
      "                   all        700       1937      0.823      0.772      0.821      0.536\n"
     ]
    },
    {
     "name": "stderr",
     "output_type": "stream",
     "text": [
      "\n"
     ]
    },
    {
     "name": "stdout",
     "output_type": "stream",
     "text": [
      "\n",
      "      Epoch    GPU_mem   box_loss   cls_loss   dfl_loss  Instances       Size\n"
     ]
    },
    {
     "name": "stderr",
     "output_type": "stream",
     "text": [
      "     70/100      3.32G      1.013     0.6619      1.231         82        416: 100%|██████████| 88/88 [00:08<00:00, 10.21it/s]\n",
      "                 Class     Images  Instances      Box(P          R      mAP50  mAP50-95): 100%|██████████| 11/11 [00:01<00:00,  9.69it/s]"
     ]
    },
    {
     "name": "stdout",
     "output_type": "stream",
     "text": [
      "                   all        700       1937      0.744      0.837      0.825      0.547\n"
     ]
    },
    {
     "name": "stderr",
     "output_type": "stream",
     "text": [
      "\n"
     ]
    },
    {
     "name": "stdout",
     "output_type": "stream",
     "text": [
      "\n",
      "      Epoch    GPU_mem   box_loss   cls_loss   dfl_loss  Instances       Size\n"
     ]
    },
    {
     "name": "stderr",
     "output_type": "stream",
     "text": [
      "     71/100      3.34G      1.006     0.6618      1.229         79        416: 100%|██████████| 88/88 [00:08<00:00, 10.02it/s]\n",
      "                 Class     Images  Instances      Box(P          R      mAP50  mAP50-95): 100%|██████████| 11/11 [00:01<00:00,  8.79it/s]"
     ]
    },
    {
     "name": "stdout",
     "output_type": "stream",
     "text": [
      "                   all        700       1937      0.766      0.812      0.816      0.536\n"
     ]
    },
    {
     "name": "stderr",
     "output_type": "stream",
     "text": [
      "\n"
     ]
    },
    {
     "name": "stdout",
     "output_type": "stream",
     "text": [
      "\n",
      "      Epoch    GPU_mem   box_loss   cls_loss   dfl_loss  Instances       Size\n"
     ]
    },
    {
     "name": "stderr",
     "output_type": "stream",
     "text": [
      "     72/100      3.32G      1.007     0.6588      1.227         56        416: 100%|██████████| 88/88 [00:08<00:00, 10.00it/s]\n",
      "                 Class     Images  Instances      Box(P          R      mAP50  mAP50-95): 100%|██████████| 11/11 [00:01<00:00,  8.42it/s]"
     ]
    },
    {
     "name": "stdout",
     "output_type": "stream",
     "text": [
      "                   all        700       1937      0.792      0.765      0.815      0.527\n"
     ]
    },
    {
     "name": "stderr",
     "output_type": "stream",
     "text": [
      "\n"
     ]
    },
    {
     "name": "stdout",
     "output_type": "stream",
     "text": [
      "\n",
      "      Epoch    GPU_mem   box_loss   cls_loss   dfl_loss  Instances       Size\n"
     ]
    },
    {
     "name": "stderr",
     "output_type": "stream",
     "text": [
      "     73/100      3.31G      1.005     0.6467       1.22         61        416: 100%|██████████| 88/88 [00:08<00:00,  9.93it/s]\n",
      "                 Class     Images  Instances      Box(P          R      mAP50  mAP50-95): 100%|██████████| 11/11 [00:01<00:00,  9.60it/s]"
     ]
    },
    {
     "name": "stdout",
     "output_type": "stream",
     "text": [
      "                   all        700       1937      0.753      0.815      0.811      0.538\n"
     ]
    },
    {
     "name": "stderr",
     "output_type": "stream",
     "text": [
      "\n"
     ]
    },
    {
     "name": "stdout",
     "output_type": "stream",
     "text": [
      "\n",
      "      Epoch    GPU_mem   box_loss   cls_loss   dfl_loss  Instances       Size\n"
     ]
    },
    {
     "name": "stderr",
     "output_type": "stream",
     "text": [
      "     74/100      3.34G     0.9953     0.6425      1.216         89        416: 100%|██████████| 88/88 [00:08<00:00,  9.95it/s]\n",
      "                 Class     Images  Instances      Box(P          R      mAP50  mAP50-95): 100%|██████████| 11/11 [00:01<00:00,  7.35it/s]"
     ]
    },
    {
     "name": "stdout",
     "output_type": "stream",
     "text": [
      "                   all        700       1937      0.799      0.778      0.804      0.528\n"
     ]
    },
    {
     "name": "stderr",
     "output_type": "stream",
     "text": [
      "\n"
     ]
    },
    {
     "name": "stdout",
     "output_type": "stream",
     "text": [
      "\n",
      "      Epoch    GPU_mem   box_loss   cls_loss   dfl_loss  Instances       Size\n"
     ]
    },
    {
     "name": "stderr",
     "output_type": "stream",
     "text": [
      "     75/100      3.32G     0.9898      0.639      1.213         69        416: 100%|██████████| 88/88 [00:08<00:00, 10.19it/s]\n",
      "                 Class     Images  Instances      Box(P          R      mAP50  mAP50-95): 100%|██████████| 11/11 [00:01<00:00,  8.81it/s]"
     ]
    },
    {
     "name": "stdout",
     "output_type": "stream",
     "text": [
      "                   all        700       1937      0.803      0.804      0.814      0.534\n"
     ]
    },
    {
     "name": "stderr",
     "output_type": "stream",
     "text": [
      "\n"
     ]
    },
    {
     "name": "stdout",
     "output_type": "stream",
     "text": [
      "\n",
      "      Epoch    GPU_mem   box_loss   cls_loss   dfl_loss  Instances       Size\n"
     ]
    },
    {
     "name": "stderr",
     "output_type": "stream",
     "text": [
      "     76/100      3.34G      0.976     0.6312      1.205         74        416: 100%|██████████| 88/88 [00:08<00:00, 10.01it/s]\n",
      "                 Class     Images  Instances      Box(P          R      mAP50  mAP50-95): 100%|██████████| 11/11 [00:01<00:00,  8.44it/s]"
     ]
    },
    {
     "name": "stdout",
     "output_type": "stream",
     "text": [
      "                   all        700       1937      0.835      0.774      0.822      0.537\n"
     ]
    },
    {
     "name": "stderr",
     "output_type": "stream",
     "text": [
      "\n"
     ]
    },
    {
     "name": "stdout",
     "output_type": "stream",
     "text": [
      "\n",
      "      Epoch    GPU_mem   box_loss   cls_loss   dfl_loss  Instances       Size\n"
     ]
    },
    {
     "name": "stderr",
     "output_type": "stream",
     "text": [
      "     77/100      3.27G     0.9684     0.6316      1.204         85        416: 100%|██████████| 88/88 [00:08<00:00, 10.23it/s]\n",
      "                 Class     Images  Instances      Box(P          R      mAP50  mAP50-95): 100%|██████████| 11/11 [00:01<00:00,  8.90it/s]"
     ]
    },
    {
     "name": "stdout",
     "output_type": "stream",
     "text": [
      "                   all        700       1937      0.817      0.801      0.828      0.543\n"
     ]
    },
    {
     "name": "stderr",
     "output_type": "stream",
     "text": [
      "\n"
     ]
    },
    {
     "name": "stdout",
     "output_type": "stream",
     "text": [
      "\n",
      "      Epoch    GPU_mem   box_loss   cls_loss   dfl_loss  Instances       Size\n"
     ]
    },
    {
     "name": "stderr",
     "output_type": "stream",
     "text": [
      "     78/100      3.32G     0.9686     0.6265      1.205         92        416: 100%|██████████| 88/88 [00:08<00:00, 10.27it/s]\n",
      "                 Class     Images  Instances      Box(P          R      mAP50  mAP50-95): 100%|██████████| 11/11 [00:01<00:00,  8.29it/s]"
     ]
    },
    {
     "name": "stdout",
     "output_type": "stream",
     "text": [
      "                   all        700       1937      0.773      0.808      0.804      0.519\n"
     ]
    },
    {
     "name": "stderr",
     "output_type": "stream",
     "text": [
      "\n"
     ]
    },
    {
     "name": "stdout",
     "output_type": "stream",
     "text": [
      "\n",
      "      Epoch    GPU_mem   box_loss   cls_loss   dfl_loss  Instances       Size\n"
     ]
    },
    {
     "name": "stderr",
     "output_type": "stream",
     "text": [
      "     79/100      3.34G     0.9688     0.6294      1.202         64        416: 100%|██████████| 88/88 [00:08<00:00, 10.25it/s]\n",
      "                 Class     Images  Instances      Box(P          R      mAP50  mAP50-95): 100%|██████████| 11/11 [00:01<00:00,  8.22it/s]"
     ]
    },
    {
     "name": "stdout",
     "output_type": "stream",
     "text": [
      "                   all        700       1937      0.793      0.805      0.826      0.539\n"
     ]
    },
    {
     "name": "stderr",
     "output_type": "stream",
     "text": [
      "\n"
     ]
    },
    {
     "name": "stdout",
     "output_type": "stream",
     "text": [
      "\n",
      "      Epoch    GPU_mem   box_loss   cls_loss   dfl_loss  Instances       Size\n"
     ]
    },
    {
     "name": "stderr",
     "output_type": "stream",
     "text": [
      "     80/100      3.31G      0.958     0.6124      1.188         90        416: 100%|██████████| 88/88 [00:08<00:00, 10.09it/s]\n",
      "                 Class     Images  Instances      Box(P          R      mAP50  mAP50-95): 100%|██████████| 11/11 [00:01<00:00,  7.72it/s]"
     ]
    },
    {
     "name": "stdout",
     "output_type": "stream",
     "text": [
      "                   all        700       1937      0.787      0.823      0.813      0.534\n"
     ]
    },
    {
     "name": "stderr",
     "output_type": "stream",
     "text": [
      "\n"
     ]
    },
    {
     "name": "stdout",
     "output_type": "stream",
     "text": [
      "\n",
      "      Epoch    GPU_mem   box_loss   cls_loss   dfl_loss  Instances       Size\n"
     ]
    },
    {
     "name": "stderr",
     "output_type": "stream",
     "text": [
      "     81/100      3.33G     0.9506     0.6089      1.186         87        416: 100%|██████████| 88/88 [00:08<00:00, 10.82it/s]\n",
      "                 Class     Images  Instances      Box(P          R      mAP50  mAP50-95): 100%|██████████| 11/11 [00:01<00:00,  7.82it/s]"
     ]
    },
    {
     "name": "stdout",
     "output_type": "stream",
     "text": [
      "                   all        700       1937       0.76       0.84      0.827       0.53\n"
     ]
    },
    {
     "name": "stderr",
     "output_type": "stream",
     "text": [
      "\n"
     ]
    },
    {
     "name": "stdout",
     "output_type": "stream",
     "text": [
      "\n",
      "      Epoch    GPU_mem   box_loss   cls_loss   dfl_loss  Instances       Size\n"
     ]
    },
    {
     "name": "stderr",
     "output_type": "stream",
     "text": [
      "     82/100      3.32G     0.9564      0.612      1.191         99        416: 100%|██████████| 88/88 [00:08<00:00, 10.07it/s]\n",
      "                 Class     Images  Instances      Box(P          R      mAP50  mAP50-95): 100%|██████████| 11/11 [00:01<00:00,  8.37it/s]"
     ]
    },
    {
     "name": "stdout",
     "output_type": "stream",
     "text": [
      "                   all        700       1937      0.833      0.788      0.832      0.544\n"
     ]
    },
    {
     "name": "stderr",
     "output_type": "stream",
     "text": [
      "\n"
     ]
    },
    {
     "name": "stdout",
     "output_type": "stream",
     "text": [
      "\n",
      "      Epoch    GPU_mem   box_loss   cls_loss   dfl_loss  Instances       Size\n"
     ]
    },
    {
     "name": "stderr",
     "output_type": "stream",
     "text": [
      "     83/100      3.27G     0.9467     0.6196      1.189         63        416: 100%|██████████| 88/88 [00:07<00:00, 11.01it/s]\n",
      "                 Class     Images  Instances      Box(P          R      mAP50  mAP50-95): 100%|██████████| 11/11 [00:01<00:00,  9.31it/s]"
     ]
    },
    {
     "name": "stdout",
     "output_type": "stream",
     "text": [
      "                   all        700       1937      0.806        0.8      0.833      0.543\n"
     ]
    },
    {
     "name": "stderr",
     "output_type": "stream",
     "text": [
      "\n"
     ]
    },
    {
     "name": "stdout",
     "output_type": "stream",
     "text": [
      "\n",
      "      Epoch    GPU_mem   box_loss   cls_loss   dfl_loss  Instances       Size\n"
     ]
    },
    {
     "name": "stderr",
     "output_type": "stream",
     "text": [
      "     84/100      3.31G      0.948     0.6065      1.189         57        416: 100%|██████████| 88/88 [00:08<00:00, 10.02it/s]\n",
      "                 Class     Images  Instances      Box(P          R      mAP50  mAP50-95): 100%|██████████| 11/11 [00:01<00:00,  8.83it/s]"
     ]
    },
    {
     "name": "stdout",
     "output_type": "stream",
     "text": [
      "                   all        700       1937        0.8      0.791      0.833      0.543\n"
     ]
    },
    {
     "name": "stderr",
     "output_type": "stream",
     "text": [
      "\n"
     ]
    },
    {
     "name": "stdout",
     "output_type": "stream",
     "text": [
      "\n",
      "      Epoch    GPU_mem   box_loss   cls_loss   dfl_loss  Instances       Size\n"
     ]
    },
    {
     "name": "stderr",
     "output_type": "stream",
     "text": [
      "     85/100      3.32G     0.9409     0.5983      1.184         87        416: 100%|██████████| 88/88 [00:08<00:00,  9.98it/s]\n",
      "                 Class     Images  Instances      Box(P          R      mAP50  mAP50-95): 100%|██████████| 11/11 [00:01<00:00,  7.91it/s]"
     ]
    },
    {
     "name": "stdout",
     "output_type": "stream",
     "text": [
      "                   all        700       1937      0.769      0.825      0.835       0.55\n"
     ]
    },
    {
     "name": "stderr",
     "output_type": "stream",
     "text": [
      "\n"
     ]
    },
    {
     "name": "stdout",
     "output_type": "stream",
     "text": [
      "\n",
      "      Epoch    GPU_mem   box_loss   cls_loss   dfl_loss  Instances       Size\n"
     ]
    },
    {
     "name": "stderr",
     "output_type": "stream",
     "text": [
      "     86/100      3.34G     0.9258     0.5966      1.178         69        416: 100%|██████████| 88/88 [00:08<00:00,  9.97it/s]\n",
      "                 Class     Images  Instances      Box(P          R      mAP50  mAP50-95): 100%|██████████| 11/11 [00:01<00:00,  8.75it/s]"
     ]
    },
    {
     "name": "stdout",
     "output_type": "stream",
     "text": [
      "                   all        700       1937      0.781      0.829      0.832      0.544\n"
     ]
    },
    {
     "name": "stderr",
     "output_type": "stream",
     "text": [
      "\n"
     ]
    },
    {
     "name": "stdout",
     "output_type": "stream",
     "text": [
      "\n",
      "      Epoch    GPU_mem   box_loss   cls_loss   dfl_loss  Instances       Size\n"
     ]
    },
    {
     "name": "stderr",
     "output_type": "stream",
     "text": [
      "     87/100      3.32G     0.9241      0.588      1.169         83        416: 100%|██████████| 88/88 [00:08<00:00, 10.02it/s]\n",
      "                 Class     Images  Instances      Box(P          R      mAP50  mAP50-95): 100%|██████████| 11/11 [00:01<00:00,  6.67it/s]"
     ]
    },
    {
     "name": "stdout",
     "output_type": "stream",
     "text": [
      "                   all        700       1937      0.792      0.796      0.825      0.544\n"
     ]
    },
    {
     "name": "stderr",
     "output_type": "stream",
     "text": [
      "\n"
     ]
    },
    {
     "name": "stdout",
     "output_type": "stream",
     "text": [
      "\n",
      "      Epoch    GPU_mem   box_loss   cls_loss   dfl_loss  Instances       Size\n"
     ]
    },
    {
     "name": "stderr",
     "output_type": "stream",
     "text": [
      "     88/100      3.34G      0.923     0.5959      1.179         89        416: 100%|██████████| 88/88 [00:08<00:00, 10.02it/s]\n",
      "                 Class     Images  Instances      Box(P          R      mAP50  mAP50-95): 100%|██████████| 11/11 [00:01<00:00,  7.78it/s]"
     ]
    },
    {
     "name": "stdout",
     "output_type": "stream",
     "text": [
      "                   all        700       1937      0.759      0.855      0.828       0.54\n"
     ]
    },
    {
     "name": "stderr",
     "output_type": "stream",
     "text": [
      "\n"
     ]
    },
    {
     "name": "stdout",
     "output_type": "stream",
     "text": [
      "\n",
      "      Epoch    GPU_mem   box_loss   cls_loss   dfl_loss  Instances       Size\n"
     ]
    },
    {
     "name": "stderr",
     "output_type": "stream",
     "text": [
      "     89/100      3.32G     0.9159     0.5805      1.166         82        416: 100%|██████████| 88/88 [00:08<00:00, 10.55it/s]\n",
      "                 Class     Images  Instances      Box(P          R      mAP50  mAP50-95): 100%|██████████| 11/11 [00:01<00:00,  9.63it/s]"
     ]
    },
    {
     "name": "stdout",
     "output_type": "stream",
     "text": [
      "                   all        700       1937      0.772       0.83      0.828      0.539\n"
     ]
    },
    {
     "name": "stderr",
     "output_type": "stream",
     "text": [
      "\n"
     ]
    },
    {
     "name": "stdout",
     "output_type": "stream",
     "text": [
      "\n",
      "      Epoch    GPU_mem   box_loss   cls_loss   dfl_loss  Instances       Size\n"
     ]
    },
    {
     "name": "stderr",
     "output_type": "stream",
     "text": [
      "     90/100      3.31G     0.9123     0.5814      1.172         54        416: 100%|██████████| 88/88 [00:08<00:00, 10.96it/s]\n",
      "                 Class     Images  Instances      Box(P          R      mAP50  mAP50-95): 100%|██████████| 11/11 [00:01<00:00,  8.36it/s]"
     ]
    },
    {
     "name": "stdout",
     "output_type": "stream",
     "text": [
      "                   all        700       1937      0.806       0.78      0.812      0.531\n"
     ]
    },
    {
     "name": "stderr",
     "output_type": "stream",
     "text": [
      "\n"
     ]
    },
    {
     "name": "stdout",
     "output_type": "stream",
     "text": [
      "Closing dataloader mosaic\n",
      "\n",
      "      Epoch    GPU_mem   box_loss   cls_loss   dfl_loss  Instances       Size\n"
     ]
    },
    {
     "name": "stderr",
     "output_type": "stream",
     "text": [
      "     91/100      3.31G     0.8653     0.4329      1.151         30        416: 100%|██████████| 88/88 [00:08<00:00, 10.70it/s]\n",
      "                 Class     Images  Instances      Box(P          R      mAP50  mAP50-95): 100%|██████████| 11/11 [00:01<00:00,  8.12it/s]"
     ]
    },
    {
     "name": "stdout",
     "output_type": "stream",
     "text": [
      "                   all        700       1937       0.77      0.841      0.827      0.536\n"
     ]
    },
    {
     "name": "stderr",
     "output_type": "stream",
     "text": [
      "\n"
     ]
    },
    {
     "name": "stdout",
     "output_type": "stream",
     "text": [
      "\n",
      "      Epoch    GPU_mem   box_loss   cls_loss   dfl_loss  Instances       Size\n"
     ]
    },
    {
     "name": "stderr",
     "output_type": "stream",
     "text": [
      "     92/100      3.31G     0.8374     0.4083      1.129         30        416: 100%|██████████| 88/88 [00:08<00:00, 10.97it/s]\n",
      "                 Class     Images  Instances      Box(P          R      mAP50  mAP50-95): 100%|██████████| 11/11 [00:01<00:00,  8.04it/s]"
     ]
    },
    {
     "name": "stdout",
     "output_type": "stream",
     "text": [
      "                   all        700       1937      0.793      0.797      0.817      0.533\n"
     ]
    },
    {
     "name": "stderr",
     "output_type": "stream",
     "text": [
      "\n"
     ]
    },
    {
     "name": "stdout",
     "output_type": "stream",
     "text": [
      "\n",
      "      Epoch    GPU_mem   box_loss   cls_loss   dfl_loss  Instances       Size\n"
     ]
    },
    {
     "name": "stderr",
     "output_type": "stream",
     "text": [
      "     93/100      3.31G      0.833     0.3989      1.127         48        416: 100%|██████████| 88/88 [00:08<00:00, 10.46it/s]\n",
      "                 Class     Images  Instances      Box(P          R      mAP50  mAP50-95): 100%|██████████| 11/11 [00:01<00:00,  8.90it/s]"
     ]
    },
    {
     "name": "stdout",
     "output_type": "stream",
     "text": [
      "                   all        700       1937      0.821      0.792       0.83      0.543\n"
     ]
    },
    {
     "name": "stderr",
     "output_type": "stream",
     "text": [
      "\n"
     ]
    },
    {
     "name": "stdout",
     "output_type": "stream",
     "text": [
      "\n",
      "      Epoch    GPU_mem   box_loss   cls_loss   dfl_loss  Instances       Size\n"
     ]
    },
    {
     "name": "stderr",
     "output_type": "stream",
     "text": [
      "     94/100       3.3G      0.823     0.3956      1.124         47        416: 100%|██████████| 88/88 [00:08<00:00, 10.92it/s]\n",
      "                 Class     Images  Instances      Box(P          R      mAP50  mAP50-95): 100%|██████████| 11/11 [00:01<00:00,  7.19it/s]"
     ]
    },
    {
     "name": "stdout",
     "output_type": "stream",
     "text": [
      "                   all        700       1937      0.769      0.841      0.826      0.538\n"
     ]
    },
    {
     "name": "stderr",
     "output_type": "stream",
     "text": [
      "\n"
     ]
    },
    {
     "name": "stdout",
     "output_type": "stream",
     "text": [
      "\n",
      "      Epoch    GPU_mem   box_loss   cls_loss   dfl_loss  Instances       Size\n"
     ]
    },
    {
     "name": "stderr",
     "output_type": "stream",
     "text": [
      "     95/100      3.31G     0.8057     0.3932      1.104         45        416: 100%|██████████| 88/88 [00:08<00:00, 10.04it/s]\n",
      "                 Class     Images  Instances      Box(P          R      mAP50  mAP50-95): 100%|██████████| 11/11 [00:01<00:00,  8.20it/s]"
     ]
    },
    {
     "name": "stdout",
     "output_type": "stream",
     "text": [
      "                   all        700       1937      0.751      0.843      0.821      0.538\n"
     ]
    },
    {
     "name": "stderr",
     "output_type": "stream",
     "text": [
      "\n"
     ]
    },
    {
     "name": "stdout",
     "output_type": "stream",
     "text": [
      "\n",
      "      Epoch    GPU_mem   box_loss   cls_loss   dfl_loss  Instances       Size\n"
     ]
    },
    {
     "name": "stderr",
     "output_type": "stream",
     "text": [
      "     96/100      3.31G     0.7987     0.3872      1.109         58        416: 100%|██████████| 88/88 [00:08<00:00,  9.98it/s]\n",
      "                 Class     Images  Instances      Box(P          R      mAP50  mAP50-95): 100%|██████████| 11/11 [00:01<00:00,  8.14it/s]"
     ]
    },
    {
     "name": "stdout",
     "output_type": "stream",
     "text": [
      "                   all        700       1937      0.786      0.806      0.835      0.546\n"
     ]
    },
    {
     "name": "stderr",
     "output_type": "stream",
     "text": [
      "\n"
     ]
    },
    {
     "name": "stdout",
     "output_type": "stream",
     "text": [
      "\n",
      "      Epoch    GPU_mem   box_loss   cls_loss   dfl_loss  Instances       Size\n"
     ]
    },
    {
     "name": "stderr",
     "output_type": "stream",
     "text": [
      "     97/100      3.31G     0.7967     0.3854      1.105         46        416: 100%|██████████| 88/88 [00:08<00:00,  9.83it/s]\n",
      "                 Class     Images  Instances      Box(P          R      mAP50  mAP50-95): 100%|██████████| 11/11 [00:01<00:00,  8.01it/s]"
     ]
    },
    {
     "name": "stdout",
     "output_type": "stream",
     "text": [
      "                   all        700       1937      0.773      0.817       0.83      0.541\n"
     ]
    },
    {
     "name": "stderr",
     "output_type": "stream",
     "text": [
      "\n"
     ]
    },
    {
     "name": "stdout",
     "output_type": "stream",
     "text": [
      "\n",
      "      Epoch    GPU_mem   box_loss   cls_loss   dfl_loss  Instances       Size\n"
     ]
    },
    {
     "name": "stderr",
     "output_type": "stream",
     "text": [
      "     98/100      3.31G     0.7899     0.3817      1.103         47        416: 100%|██████████| 88/88 [00:08<00:00, 10.06it/s]\n",
      "                 Class     Images  Instances      Box(P          R      mAP50  mAP50-95): 100%|██████████| 11/11 [00:01<00:00,  8.63it/s]"
     ]
    },
    {
     "name": "stdout",
     "output_type": "stream",
     "text": [
      "                   all        700       1937      0.763      0.845      0.835      0.543\n"
     ]
    },
    {
     "name": "stderr",
     "output_type": "stream",
     "text": [
      "\n"
     ]
    },
    {
     "name": "stdout",
     "output_type": "stream",
     "text": [
      "\n",
      "      Epoch    GPU_mem   box_loss   cls_loss   dfl_loss  Instances       Size\n"
     ]
    },
    {
     "name": "stderr",
     "output_type": "stream",
     "text": [
      "     99/100      3.31G     0.7839     0.3786      1.101         48        416: 100%|██████████| 88/88 [00:07<00:00, 11.02it/s]\n",
      "                 Class     Images  Instances      Box(P          R      mAP50  mAP50-95): 100%|██████████| 11/11 [00:01<00:00,  9.69it/s]"
     ]
    },
    {
     "name": "stdout",
     "output_type": "stream",
     "text": [
      "                   all        700       1937      0.763      0.853      0.837      0.548\n"
     ]
    },
    {
     "name": "stderr",
     "output_type": "stream",
     "text": [
      "\n"
     ]
    },
    {
     "name": "stdout",
     "output_type": "stream",
     "text": [
      "\n",
      "      Epoch    GPU_mem   box_loss   cls_loss   dfl_loss  Instances       Size\n"
     ]
    },
    {
     "name": "stderr",
     "output_type": "stream",
     "text": [
      "    100/100      3.44G     0.7776     0.3776      1.099         45        416: 100%|██████████| 88/88 [00:08<00:00, 10.91it/s]\n",
      "                 Class     Images  Instances      Box(P          R      mAP50  mAP50-95): 100%|██████████| 11/11 [00:01<00:00,  8.80it/s]"
     ]
    },
    {
     "name": "stdout",
     "output_type": "stream",
     "text": [
      "                   all        700       1937      0.791      0.803      0.829      0.545\n"
     ]
    },
    {
     "name": "stderr",
     "output_type": "stream",
     "text": [
      "\n"
     ]
    },
    {
     "name": "stdout",
     "output_type": "stream",
     "text": [
      "\n",
      "100 epochs completed in 0.289 hours.\n",
      "Optimizer stripped from YOLO_model_experiment_logs/yolov8s_lr0.001_batch32_img416_epochs100/training/weights/last.pt, 22.5MB\n",
      "Optimizer stripped from YOLO_model_experiment_logs/yolov8s_lr0.001_batch32_img416_epochs100/training/weights/best.pt, 22.5MB\n",
      "\n",
      "Validating YOLO_model_experiment_logs/yolov8s_lr0.001_batch32_img416_epochs100/training/weights/best.pt...\n",
      "Ultralytics 8.3.65 🚀 Python-3.12.8 torch-2.6.0+cu124 CUDA:0 (NVIDIA GeForce RTX 4070, 11980MiB)\n",
      "Model summary (fused): 168 layers, 11,130,228 parameters, 0 gradients, 28.5 GFLOPs\n",
      "----------- Args.data:  /home/jayanth/ConsultingProject/DATA/output_dataset/dataset.yaml --------------\n",
      "-----------Args.task detect -------------\n"
     ]
    },
    {
     "name": "stderr",
     "output_type": "stream",
     "text": [
      "                 Class     Images  Instances      Box(P          R      mAP50  mAP50-95): 100%|██████████| 11/11 [00:01<00:00,  6.19it/s]\n"
     ]
    },
    {
     "name": "stdout",
     "output_type": "stream",
     "text": [
      "                   all        700       1937      0.768      0.825      0.835       0.55\n",
      "             Arytenoid        281        540      0.888       0.87      0.901      0.466\n",
      "             Epigottis        197        198      0.869      0.929      0.951      0.687\n",
      "             Esophagus        128        128      0.916      0.922      0.962      0.476\n",
      "               Glottis        397        397      0.897      0.914      0.938       0.57\n",
      "               Trachea        111        111      0.913      0.973      0.979      0.679\n",
      "           Vocal Cords        273        517      0.823      0.883      0.877        0.5\n",
      "      tracheal_rings_3         10         10      0.642        0.8      0.887      0.764\n",
      "      tracheal_rings_4          9          9      0.535      0.667      0.596      0.458\n",
      "      tracheal_rings_5         19         19      0.719      0.789      0.866      0.658\n",
      "tracheal_rings_greater_than_5          8          8      0.477        0.5      0.396      0.243\n",
      "Speed: 0.0ms preprocess, 0.8ms inference, 0.0ms loss, 0.3ms postprocess per image\n",
      "Results saved to \u001b[1mYOLO_model_experiment_logs/yolov8s_lr0.001_batch32_img416_epochs100/training\u001b[0m\n",
      "Ultralytics 8.3.65 🚀 Python-3.12.8 torch-2.6.0+cu124 CUDA:0 (NVIDIA GeForce RTX 4070, 11980MiB)\n",
      "Model summary (fused): 168 layers, 11,130,228 parameters, 0 gradients, 28.5 GFLOPs\n",
      "----------- Args.data:  /home/jayanth/ConsultingProject/DATA/output_dataset/holdout.yaml --------------\n",
      "-----------Args.task detect -------------\n"
     ]
    },
    {
     "name": "stderr",
     "output_type": "stream",
     "text": [
      "\u001b[34m\u001b[1mval: \u001b[0mScanning /home/jayanth/ConsultingProject/DATA/output_dataset/yolo_dataset/holdout/labels... 844 images, 0 backgrounds, 0 corrupt: 100%|██████████| 844/844 [00:00<00:00, 1481.04it/s]"
     ]
    },
    {
     "name": "stdout",
     "output_type": "stream",
     "text": [
      "\u001b[34m\u001b[1mval: \u001b[0mNew cache created: /home/jayanth/ConsultingProject/DATA/output_dataset/yolo_dataset/holdout/labels.cache\n"
     ]
    },
    {
     "name": "stderr",
     "output_type": "stream",
     "text": [
      "\n",
      "                 Class     Images  Instances      Box(P          R      mAP50  mAP50-95): 100%|██████████| 27/27 [00:03<00:00,  7.57it/s]\n"
     ]
    },
    {
     "name": "stdout",
     "output_type": "stream",
     "text": [
      "                   all        844       3221      0.728      0.733      0.721      0.492\n",
      "             Arytenoid        577       1130      0.896       0.87      0.912      0.468\n",
      "             Epigottis        418        420      0.863      0.936       0.96      0.719\n",
      "             Esophagus         77         77      0.923      0.933      0.923      0.417\n",
      "       Glottic Opening          1          1          0          0          0          0\n",
      "               Glottis        662        662      0.904      0.934      0.941      0.544\n",
      "               Trachea         61         61      0.882      0.869      0.928      0.645\n",
      "           Vocal Cords        444        840      0.856        0.9      0.918      0.487\n",
      "             placement          1          1          1          0          0          0\n",
      "      tracheal_rings_3          9          9      0.591      0.643      0.697      0.627\n",
      "      tracheal_rings_4          5          5      0.421        0.8      0.772      0.637\n",
      "      tracheal_rings_5         10         11      0.754      0.909      0.769      0.666\n",
      "tracheal_rings_greater_than_5          4          4      0.652          1      0.828      0.695\n",
      "Speed: 0.1ms preprocess, 1.6ms inference, 0.0ms loss, 0.4ms postprocess per image\n",
      "Results saved to \u001b[1mYOLO_model_experiment_logs/yolov8s_lr0.001_batch32_img416_epochs100/holdout\u001b[0m\n",
      "✅ Model saved to YOLO_model_experiment_logs/yolov8s_lr0.001_batch32_img416_epochs100/trained_model.pt\n",
      "dummy_input: tensor([[[[0.9764, 0.0310, 0.2572,  ..., 0.8923, 0.0962, 0.7146],\n",
      "          [0.1228, 0.2823, 0.8006,  ..., 0.3713, 0.5409, 0.8065],\n",
      "          [0.5480, 0.4255, 0.0691,  ..., 0.9424, 0.8594, 0.9089],\n",
      "          ...,\n",
      "          [0.5782, 0.1493, 0.4461,  ..., 0.7858, 0.0799, 0.9011],\n",
      "          [0.8471, 0.0562, 0.7881,  ..., 0.0713, 0.8689, 0.0940],\n",
      "          [0.7560, 0.9441, 0.9727,  ..., 0.6632, 0.7201, 0.2752]],\n",
      "\n",
      "         [[0.2914, 0.9939, 0.6896,  ..., 0.0450, 0.6867, 0.6701],\n",
      "          [0.8749, 0.8881, 0.4644,  ..., 0.7909, 0.9159, 0.7877],\n",
      "          [0.2591, 0.0325, 0.2966,  ..., 0.8751, 0.4236, 0.2396],\n",
      "          ...,\n",
      "          [0.6101, 0.2199, 0.4159,  ..., 0.7143, 0.9144, 0.2910],\n",
      "          [0.2606, 0.8997, 0.3540,  ..., 0.4683, 0.6624, 0.0471],\n",
      "          [0.2276, 0.9311, 0.5574,  ..., 0.7404, 0.7739, 0.7218]],\n",
      "\n",
      "         [[0.8774, 0.4777, 0.8280,  ..., 0.6473, 0.9201, 0.8575],\n",
      "          [0.8958, 0.5026, 0.6586,  ..., 0.6197, 0.6028, 0.1510],\n",
      "          [0.4523, 0.6533, 0.5493,  ..., 0.6813, 0.7105, 0.7813],\n",
      "          ...,\n",
      "          [0.6651, 0.5259, 0.9136,  ..., 0.2782, 0.1823, 0.7233],\n",
      "          [0.2764, 0.4520, 0.3945,  ..., 0.2310, 0.9364, 0.1533],\n",
      "          [0.0704, 0.1233, 0.4726,  ..., 0.2344, 0.0396, 0.6083]]]])\n",
      "Ultralytics 8.3.65 🚀 Python-3.12.8 torch-2.6.0+cu124 CPU (13th Gen Intel Core(TM) i9-13900F)\n",
      "\n",
      "\u001b[34m\u001b[1mPyTorch:\u001b[0m starting from 'YOLO_model_experiment_logs/yolov8s_lr0.001_batch32_img416_epochs100/trained_model.pt' with input shape (1, 3, 416, 416) BCHW and output shape(s) (1, 16, 3549) (21.4 MB)\n",
      "\n",
      "\u001b[34m\u001b[1mONNX:\u001b[0m starting export with onnx 1.17.0 opset 12...\n",
      "\u001b[34m\u001b[1mONNX:\u001b[0m slimming with onnxslim 0.1.48...\n",
      "\u001b[34m\u001b[1mONNX:\u001b[0m export success ✅ 5.5s, saved as 'YOLO_model_experiment_logs/yolov8s_lr0.001_batch32_img416_epochs100/trained_model.onnx' (42.6 MB)\n",
      "\n",
      "Export complete (5.6s)\n",
      "Results saved to \u001b[1m/home/jayanth/ConsultingProject/YOLO_model_experiment_logs/yolov8s_lr0.001_batch32_img416_epochs100\u001b[0m\n",
      "Predict:         yolo predict task=detect model=YOLO_model_experiment_logs/yolov8s_lr0.001_batch32_img416_epochs100/trained_model.onnx imgsz=416  \n",
      "Validate:        yolo val task=detect model=YOLO_model_experiment_logs/yolov8s_lr0.001_batch32_img416_epochs100/trained_model.onnx imgsz=416 data=/home/jayanth/ConsultingProject/DATA/output_dataset/dataset.yaml  \n",
      "Visualize:       https://netron.app\n",
      "✅ YOLOv8 model successfully converted to ONNX: YOLO_model_experiment_logs/yolov8s_lr0.001_batch32_img416_epochs100/trained_model.onnx\n",
      "✅ TorchScript model saved successfully as YOLO_model_experiment_logs/yolov8s_lr0.001_batch32_img416_epochs100/trained_model_torchscript.pt\n",
      "✅ Optimized TorchScript model saved for mobile deployment.\n",
      "\n",
      "image 1/1 /home/jayanth/ConsultingProject/DATA/output_dataset/yolo_dataset/holdout/images/Screenshot_20241211_161318_Samsung Internet.jpg: 416x416 1 Trachea, 2.0ms\n",
      "Speed: 0.4ms preprocess, 2.0ms inference, 0.6ms postprocess per image at shape (1, 3, 416, 416)\n",
      "📊 Saved inference plot: YOLO_model_experiment_logs/yolov8s_lr0.001_batch32_img416_epochs100/Results_comparison_plots/plot_Screenshot_20241211_161318_Samsung Internet.jpg.png\n",
      "\n",
      "image 1/1 /home/jayanth/ConsultingProject/DATA/output_dataset/yolo_dataset/holdout/images/Screenshot_20241127_122451_Samsung Internet.jpg: 416x416 1 tracheal_rings_5, 2.0ms\n",
      "Speed: 0.3ms preprocess, 2.0ms inference, 0.5ms postprocess per image at shape (1, 3, 416, 416)\n",
      "📊 Saved inference plot: YOLO_model_experiment_logs/yolov8s_lr0.001_batch32_img416_epochs100/Results_comparison_plots/plot_Screenshot_20241127_122451_Samsung Internet.jpg.png\n",
      "\n",
      "image 1/1 /home/jayanth/ConsultingProject/DATA/output_dataset/yolo_dataset/holdout/images/Screenshot_20241025_063358_Samsung Internet.jpg: 416x416 2 Arytenoids, 1 Epigottis, 1 Glottis, 2 Vocal Cordss, 2.0ms\n",
      "Speed: 0.3ms preprocess, 2.0ms inference, 0.4ms postprocess per image at shape (1, 3, 416, 416)\n",
      "📊 Saved inference plot: YOLO_model_experiment_logs/yolov8s_lr0.001_batch32_img416_epochs100/Results_comparison_plots/plot_Screenshot_20241025_063358_Samsung Internet.jpg.png\n",
      "\n",
      "image 1/1 /home/jayanth/ConsultingProject/DATA/output_dataset/yolo_dataset/holdout/images/Screenshot_20241023_165321_Video Player.jpg: 416x416 2 Arytenoids, 1 Epigottis, 1 Glottis, 2.0ms\n",
      "Speed: 0.3ms preprocess, 2.0ms inference, 0.4ms postprocess per image at shape (1, 3, 416, 416)\n",
      "📊 Saved inference plot: YOLO_model_experiment_logs/yolov8s_lr0.001_batch32_img416_epochs100/Results_comparison_plots/plot_Screenshot_20241023_165321_Video Player.jpg.png\n",
      "\n",
      "image 1/1 /home/jayanth/ConsultingProject/DATA/output_dataset/yolo_dataset/holdout/images/Screenshot_20241024_210024_Samsung Internet.jpg: 416x416 2 Arytenoids, 1 Glottis, 2 Vocal Cordss, 2.0ms\n",
      "Speed: 0.4ms preprocess, 2.0ms inference, 0.4ms postprocess per image at shape (1, 3, 416, 416)\n",
      "📊 Saved inference plot: YOLO_model_experiment_logs/yolov8s_lr0.001_batch32_img416_epochs100/Results_comparison_plots/plot_Screenshot_20241024_210024_Samsung Internet.jpg.png\n",
      "\n",
      "image 1/1 /home/jayanth/ConsultingProject/DATA/output_dataset/yolo_dataset/holdout/images/Wiieii (2).jpg: 416x416 2 Arytenoids, 1 Epigottis, 1 Glottis, 2 Vocal Cordss, 2.0ms\n",
      "Speed: 0.4ms preprocess, 2.0ms inference, 0.4ms postprocess per image at shape (1, 3, 416, 416)\n",
      "📊 Saved inference plot: YOLO_model_experiment_logs/yolov8s_lr0.001_batch32_img416_epochs100/Results_comparison_plots/plot_Wiieii (2).jpg.png\n",
      "\n",
      "image 1/1 /home/jayanth/ConsultingProject/DATA/output_dataset/yolo_dataset/holdout/images/Screenshot_20241023_204914_Samsung Internet (1).jpg: 416x416 2 Arytenoids, 1 Epigottis, 1 Glottis, 2 Vocal Cordss, 2.0ms\n",
      "Speed: 0.4ms preprocess, 2.0ms inference, 0.4ms postprocess per image at shape (1, 3, 416, 416)\n",
      "📊 Saved inference plot: YOLO_model_experiment_logs/yolov8s_lr0.001_batch32_img416_epochs100/Results_comparison_plots/plot_Screenshot_20241023_204914_Samsung Internet (1).jpg.png\n",
      "\n",
      "image 1/1 /home/jayanth/ConsultingProject/DATA/output_dataset/yolo_dataset/holdout/images/Screenshot_20241023_211232_Samsung Internet.jpg: 416x416 2 Arytenoids, 1 Epigottis, 1 Glottis, 2 Vocal Cordss, 2.0ms\n",
      "Speed: 0.4ms preprocess, 2.0ms inference, 0.4ms postprocess per image at shape (1, 3, 416, 416)\n",
      "📊 Saved inference plot: YOLO_model_experiment_logs/yolov8s_lr0.001_batch32_img416_epochs100/Results_comparison_plots/plot_Screenshot_20241023_211232_Samsung Internet.jpg.png\n",
      "\n",
      "image 1/1 /home/jayanth/ConsultingProject/DATA/output_dataset/yolo_dataset/holdout/images/Screenshot_20250109_195104_Samsung Internet.jpg: 416x416 1 Trachea, 2.0ms\n",
      "Speed: 0.3ms preprocess, 2.0ms inference, 0.4ms postprocess per image at shape (1, 3, 416, 416)\n",
      "📊 Saved inference plot: YOLO_model_experiment_logs/yolov8s_lr0.001_batch32_img416_epochs100/Results_comparison_plots/plot_Screenshot_20250109_195104_Samsung Internet.jpg.png\n",
      "\n",
      "image 1/1 /home/jayanth/ConsultingProject/DATA/output_dataset/yolo_dataset/holdout/images/Screenshot_20241023_165400_Video Player.jpg: 416x416 1 Arytenoid, 1 Epigottis, 1 Glottis, 2.0ms\n",
      "Speed: 0.3ms preprocess, 2.0ms inference, 0.4ms postprocess per image at shape (1, 3, 416, 416)\n",
      "📊 Saved inference plot: YOLO_model_experiment_logs/yolov8s_lr0.001_batch32_img416_epochs100/Results_comparison_plots/plot_Screenshot_20241023_165400_Video Player.jpg.png\n",
      "\n",
      "✅ All experiments completed! Results logged.\n"
     ]
    }
   ],
   "source": [
    "#---------------------------------------------------- MODEL TRAINING & TUNING ------------------------------------------------------------------------\n",
    "\n",
    "import os\n",
    "import cv2\n",
    "import numpy as np\n",
    "import time\n",
    "import torch\n",
    "import pandas as pd\n",
    "import random\n",
    "import matplotlib.pyplot as plt\n",
    "from ultralytics import YOLO\n",
    "import helper as helper_file\n",
    "\n",
    "# # # Paths to dataset & logs\n",
    "# output_dataset_path = \"/home/jayanth/ConsultingProject/DATA/output_dataset/yolo_dataset\"\n",
    "# data_yaml_path = os.path.join('/home/jayanth/ConsultingProject/DATA/output_dataset', \"dataset.yaml\")\n",
    "# holdout_yaml_path = os.path.join('/home/jayanth/ConsultingProject/DATA/output_dataset', \"holdout.yaml\")\n",
    "# experiment_logs = \"YOLO_model_experiment_logs\"\n",
    "\n",
    "# Ensure dataset exists\n",
    "if not os.path.exists(output_dataset_path):\n",
    "    raise FileNotFoundError(\"Training Data is missing!\")\n",
    "\n",
    "#Create the experiments folder if it does not exist \n",
    "os.makedirs(experiment_logs, exist_ok=True)\n",
    "\n",
    "# Load Holdout Set\n",
    "holdout_images_folder = os.path.join(output_dataset_path, \"holdout/images\")\n",
    "holdout_labels_folder = os.path.join(output_dataset_path, \"holdout/labels\")\n",
    "holdout_images = [f for f in os.listdir(holdout_images_folder) if f.lower().endswith(('png', 'jpg', 'jpeg'))]\n",
    "\n",
    "# Function to log results\n",
    "def log_results(log_file, config, metrics, class_metrics):\n",
    "    log_data = {**config, **metrics}  # Combine hyperparameters & global metrics\n",
    "\n",
    "    # Add per-class metrics to the log\n",
    "    for class_name, class_data in class_metrics.items():\n",
    "        log_data.update({\n",
    "            f\"{class_name}_P\": class_data[\"P\"],\n",
    "            f\"{class_name}_R\": class_data[\"R\"],\n",
    "            f\"{class_name}_mAP50\": class_data[\"mAP50\"],\n",
    "            f\"{class_name}_mAP50-95\": class_data[\"mAP50-95\"]\n",
    "        })\n",
    "\n",
    "    # Save results to CSV\n",
    "    df = pd.DataFrame([log_data])\n",
    "    df.to_csv(log_file, mode='a', header=not os.path.exists(log_file), index=False)  # Append if exists\n",
    "\n",
    "# List of YOLO model experiments\n",
    "\n",
    "experiments = [\n",
    "    {\"model\": \"yolov8s.pt\", \"lr0\": 0.001, \"batch\": 32, \"imgsz\": 416, \"epochs\": 100},\n",
    "    # {\"model\": \"yolov8s.pt\", \"lr0\": 0.001, \"batch\": 32, \"imgsz\": 640, \"epochs\": 50},\n",
    "    # {\"model\": \"yolov8m.pt\", \"lr0\": 0.001, \"batch\": 16, \"imgsz\": 416, \"epochs\": 50},\n",
    "]\n",
    "\n",
    "# Run experiments\n",
    "for i, exp in enumerate(experiments):\n",
    "    print(f\"\\n🚀 Running Experiment {i + 1}: {exp}\")\n",
    "\n",
    "    # Create experiment folder\n",
    "    experiment_name = f\"{exp['model'].split('.')[0]}_lr{exp['lr0']}_batch{exp['batch']}_img{exp['imgsz']}_epochs{exp['epochs']}\"\n",
    "    experiment_folder = os.path.join(experiment_logs, experiment_name)\n",
    "\n",
    "    \n",
    "    # If logs folder already exists, delete it and overwrite \n",
    "    if os.path.exists(experiment_folder):\n",
    "        print(f\"⚠ Deleting existing dataset folder: {experiment_folder}\")\n",
    "        shutil.rmtree(experiment_folder)  # Deletes the entire folder\n",
    "    os.makedirs(experiment_folder, exist_ok=True)\n",
    "\n",
    "    # Load YOLO model\n",
    "    model = YOLO(exp[\"model\"])\n",
    "\n",
    "    # Train the model\n",
    "    model.train(\n",
    "        data=data_yaml_path,\n",
    "        epochs=exp[\"epochs\"],\n",
    "        imgsz=exp[\"imgsz\"],\n",
    "        batch=exp[\"batch\"],\n",
    "        lr0=exp[\"lr0\"],\n",
    "        name=\"training\",\n",
    "        project=experiment_folder\n",
    "    )\n",
    "\n",
    "    # Validate the model on the holdout set\n",
    "    results = model.val(data=holdout_yaml_path, imgsz=exp[\"imgsz\"], name=\"holdout\", project=experiment_folder)\n",
    "\n",
    "    # Extract global metrics\n",
    "    metrics = {\n",
    "        \"Precision\": results.box.mp,\n",
    "        \"Recall\": results.box.mr,\n",
    "        \"mAP50\": results.box.map50,\n",
    "        \"mAP50-95\": results.box.map,\n",
    "    }\n",
    "\n",
    "    # Extract per-class metrics\n",
    "    class_metrics = {}\n",
    "    for class_idx, class_name in results.names.items():\n",
    "        if class_idx >= len(results.box.p):  # Skip missing classes\n",
    "            print(f\"Skipping class {class_name}: not present in results.\")\n",
    "            continue\n",
    "\n",
    "        # Extract class-specific results\n",
    "        class_result = results.box.class_result(class_idx)\n",
    "        class_metrics[class_name] = {\n",
    "            \"P\": class_result[0], \"R\": class_result[1], \"mAP50\": class_result[2], \"mAP50-95\": class_result[3]\n",
    "        }\n",
    "\n",
    "    # Log results\n",
    "    log_file = os.path.join(experiment_folder, \"yolo_experiments.csv\")\n",
    "    log_results(log_file, exp, metrics, class_metrics)\n",
    "\n",
    "    # Save trained model\n",
    "    model_save_path = os.path.join(experiment_folder, \"trained_model.pt\")\n",
    "    model.save(model_save_path)\n",
    "    print(f\"✅ Model saved to {model_save_path}\")\n",
    "\n",
    "    \n",
    "    #converting the current model to mobile compatible model \n",
    "    import torch\n",
    "    dummy_input = torch.rand(1, 3, target_size[0], target_size[1])\n",
    "    helper_file.mobile_optimized_model_conversion(experiment_folder, model_save_path,dummy_input)\n",
    "\n",
    "    # Save Prediction Plots\n",
    "    plot_folder = os.path.join(experiment_folder, \"Results_comparison_plots\")\n",
    "    os.makedirs(plot_folder, exist_ok=True)\n",
    "\n",
    "    # Generate and save inference plots for a subset of holdout images\n",
    "    for i, image_name in enumerate(random.sample(holdout_images, min(10, len(holdout_images)))):  # Limit to 10 images\n",
    "        image_path = os.path.join(holdout_images_folder, image_name)\n",
    "        label_path = os.path.join(holdout_labels_folder, os.path.splitext(image_name)[0] + \".txt\")\n",
    "\n",
    "        # Load image\n",
    "        image = cv2.imread(image_path)\n",
    "        image = cv2.cvtColor(image, cv2.COLOR_BGR2RGB)\n",
    "\n",
    "        # Load ground truth labels\n",
    "        gt_bboxes = helper_file.read_yolo_labels(label_path) if os.path.exists(label_path) else []\n",
    "\n",
    "        # Perform inference\n",
    "        predictions = model.predict(source=image_path, imgsz=exp[\"imgsz\"])\n",
    "\n",
    "        # Draw ground truth and predictions\n",
    "        image_with_gt = helper_file.draw_bboxes(image.copy(), gt_bboxes, list(class_metrics.keys()), color=(0, 255, 0))\n",
    "        image_with_predictions = cv2.cvtColor(predictions[0].plot(), cv2.COLOR_BGR2RGB)\n",
    "\n",
    "        # Save comparison plots\n",
    "        plt.figure(figsize=(12, 6))\n",
    "        plt.subplot(1, 2, 1)\n",
    "        plt.title(\"Ground Truth\")\n",
    "        plt.imshow(image_with_gt)\n",
    "        plt.axis('off')\n",
    "\n",
    "        plt.subplot(1, 2, 2)\n",
    "        plt.title(\"Predictions\")\n",
    "        plt.imshow(image_with_predictions)\n",
    "        plt.axis('off')\n",
    "\n",
    "        save_path = os.path.join(plot_folder, f\"plot_{image_name}.png\")\n",
    "        plt.savefig(save_path)\n",
    "        print(f\"📊 Saved inference plot: {save_path}\")\n",
    "\n",
    "print(\"\\n✅ All experiments completed! Results logged.\")\n"
   ]
  },
  {
   "cell_type": "code",
   "execution_count": 6,
   "metadata": {},
   "outputs": [
    {
     "name": "stdout",
     "output_type": "stream",
     "text": [
      "\n",
      "🚀 **Final Model Performance:** mAP50-95 = 0.4920\n"
     ]
    }
   ],
   "source": [
    "# Extract Mean Average Precision at IoU 0.5:0.95 (best overall metric)\n",
    "final_map5095 = results.box.map  # mAP50-95\n",
    "\n",
    "# Print the key model performance metric\n",
    "print(f\"\\n🚀 **Final Model Performance:** mAP50-95 = {final_map5095:.4f}\")\n"
   ]
  },
  {
   "cell_type": "code",
   "execution_count": null,
   "metadata": {},
   "outputs": [],
   "source": []
  }
 ],
 "metadata": {
  "kernelspec": {
   "display_name": "ml",
   "language": "python",
   "name": "python3"
  },
  "language_info": {
   "codemirror_mode": {
    "name": "ipython",
    "version": 3
   },
   "file_extension": ".py",
   "mimetype": "text/x-python",
   "name": "python",
   "nbconvert_exporter": "python",
   "pygments_lexer": "ipython3",
   "version": "3.12.8"
  }
 },
 "nbformat": 4,
 "nbformat_minor": 2
}
